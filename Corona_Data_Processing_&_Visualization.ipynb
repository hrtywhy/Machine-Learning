{
  "nbformat": 4,
  "nbformat_minor": 0,
  "metadata": {
    "colab": {
      "name": "Corona Data Processing & Visualization",
      "provenance": [],
      "collapsed_sections": [
        "R5v2oiOZgWqv",
        "CJGZiJwiyJ1T",
        "4-8kTAg0EH57",
        "PDHxjLLDYGo_",
        "EI8k-n8zmg7N"
      ],
      "include_colab_link": true
    },
    "kernelspec": {
      "display_name": "Python 3",
      "name": "python3"
    }
  },
  "cells": [
    {
      "cell_type": "markdown",
      "metadata": {
        "id": "view-in-github",
        "colab_type": "text"
      },
      "source": [
        "<a href=\"https://colab.research.google.com/github/hrtywhy/Machine-Learning/blob/main/Corona_Data_Processing_%26_Visualization.ipynb\" target=\"_parent\"><img src=\"https://colab.research.google.com/assets/colab-badge.svg\" alt=\"Open In Colab\"/></a>"
      ]
    },
    {
      "cell_type": "markdown",
      "metadata": {
        "id": "R5v2oiOZgWqv"
      },
      "source": [
        "#Task 1 menggunakan dataset jakarta.csv"
      ]
    },
    {
      "cell_type": "markdown",
      "metadata": {
        "id": "8L4YvQrpZrbV"
      },
      "source": [
        "### Introduction\n",
        "DKI dalah ibu kota negara dan kota terbesar di Indonesia. Jakarta merupakan satu-satunya kota di Indonesia yang memiliki status setingkat provinsi. Dengan kepadatan penduduk yang tinggi maka penyebaran corona juga makin masif dan cepat tak terhindarkan. Berikut ini saya mencoba sedikit menganalisis dan memvisualisasikan kasus corona yang terjadi di Jakarta pada bulan Maret 2020.\n"
      ]
    },
    {
      "cell_type": "markdown",
      "metadata": {
        "id": "ynH18sN4bd_U"
      },
      "source": [
        "### Requirements\n",
        "Disini saya menggunakan beberapa modul dan library dari python, antara lain :\n",
        "\n",
        "\n",
        "1.   **NumPy**\n",
        "\n",
        "NumPy adalah sebuah library pada Python yang mana nantinya kita gunakan untuk melakukan operasi vektor dan matriks dengan mengolah array dan array multidimensi.\n",
        "\n",
        "2.   **Matplotlib**\n",
        "\n",
        "Matplotlib kita gunakan untuk memvisualisasikan data dengan plot kualitas tinggi dalam berbagai format.\n",
        "\n",
        "3. **Pandas**\n",
        "\n",
        "Seperti biasa pandas kita gunakan untuk membuat tabel, mengubah dimensi data, mengecek data, dan lain sebagainya\n",
        "\n",
        "4.  **Klib**\n",
        "\n",
        "Klib berguna untuk mengimpor, membersihkan, menganalisis, dan memproses data sebelumnya.\n",
        "\n",
        "5. **Warning**\n",
        "\n",
        "Saya menggunakan modul Warning untuk menghilangkan pesan warning\n",
        "\n",
        "6. **Plotly**\n",
        "\n",
        "Plotly Express adalah library visualisasi Python tingkat tinggi baru. Ini adalah pembungkus untuk Plotly.py yang memperlihatkan sintaks sederhana untuk bagan yang  kompleks. \n",
        "\n",
        "7. **Sklearn**\n",
        "\n",
        "sklearn (yang juga dikenal sebagai scikit-learn) adalah library, yang terdiri dari algoritma untuk mengelompokkan satu set objek-objek yang tidak berlabel, memperkirakan hubungan antar variabel, dan menentukan klasifikasi pengamatan baru.\n",
        "\n",
        "8. **Bokeh**\n",
        "\n",
        "Library python untuk memvisualisasikan data\n"
      ]
    },
    {
      "cell_type": "markdown",
      "metadata": {
        "id": "5aCFQH5Pfpk9"
      },
      "source": [
        "### Import Library & Modul\n",
        "Seperti yang sudah saya jelaskan diatas, kita import modul dan library yang akan kita gunakan terlebih dahulu dan tak lupa juga drive tempat kita menyimpan data"
      ]
    },
    {
      "cell_type": "code",
      "metadata": {
        "colab": {
          "base_uri": "https://localhost:8080/"
        },
        "id": "heHgMGLmAEoU",
        "outputId": "0199709a-ed0e-4fc8-fd1d-b7524784dbf6"
      },
      "source": [
        "!pip install klib"
      ],
      "execution_count": 42,
      "outputs": [
        {
          "output_type": "stream",
          "text": [
            "Requirement already satisfied: klib in /usr/local/lib/python3.7/dist-packages (0.1.5)\n",
            "Requirement already satisfied: seaborn>=0.11.1 in /usr/local/lib/python3.7/dist-packages (from klib) (0.11.1)\n",
            "Requirement already satisfied: pandas>=1.1 in /usr/local/lib/python3.7/dist-packages (from klib) (1.1.5)\n",
            "Requirement already satisfied: matplotlib>=3.0.3 in /usr/local/lib/python3.7/dist-packages (from klib) (3.2.2)\n",
            "Requirement already satisfied: scikit-learn>=0.23 in /usr/local/lib/python3.7/dist-packages (from klib) (0.24.2)\n",
            "Requirement already satisfied: numpy>=1.15.4 in /usr/local/lib/python3.7/dist-packages (from klib) (1.19.5)\n",
            "Requirement already satisfied: scipy>=1.0.0 in /usr/local/lib/python3.7/dist-packages (from klib) (1.4.1)\n",
            "Requirement already satisfied: python-dateutil>=2.7.3 in /usr/local/lib/python3.7/dist-packages (from pandas>=1.1->klib) (2.8.1)\n",
            "Requirement already satisfied: pytz>=2017.2 in /usr/local/lib/python3.7/dist-packages (from pandas>=1.1->klib) (2018.9)\n",
            "Requirement already satisfied: kiwisolver>=1.0.1 in /usr/local/lib/python3.7/dist-packages (from matplotlib>=3.0.3->klib) (1.3.1)\n",
            "Requirement already satisfied: cycler>=0.10 in /usr/local/lib/python3.7/dist-packages (from matplotlib>=3.0.3->klib) (0.10.0)\n",
            "Requirement already satisfied: pyparsing!=2.0.4,!=2.1.2,!=2.1.6,>=2.0.1 in /usr/local/lib/python3.7/dist-packages (from matplotlib>=3.0.3->klib) (2.4.7)\n",
            "Requirement already satisfied: joblib>=0.11 in /usr/local/lib/python3.7/dist-packages (from scikit-learn>=0.23->klib) (1.0.1)\n",
            "Requirement already satisfied: threadpoolctl>=2.0.0 in /usr/local/lib/python3.7/dist-packages (from scikit-learn>=0.23->klib) (2.2.0)\n",
            "Requirement already satisfied: six>=1.5 in /usr/local/lib/python3.7/dist-packages (from python-dateutil>=2.7.3->pandas>=1.1->klib) (1.15.0)\n"
          ],
          "name": "stdout"
        }
      ]
    },
    {
      "cell_type": "code",
      "metadata": {
        "colab": {
          "base_uri": "https://localhost:8080/"
        },
        "id": "Mz31SowKLDfx",
        "outputId": "82e7407b-bc31-4af0-ab27-ce04c559d783"
      },
      "source": [
        "import numpy as np\n",
        "import matplotlib.pyplot as plt\n",
        "import pandas as pd\n",
        "import klib\n",
        "import warnings\n",
        "import plotly.express as px\n",
        "import seaborn as sns\n",
        "import datetime as dt\n",
        "import plotly.graph_objects as go\n",
        "warnings.filterwarnings('ignore')\n",
        "\n",
        "from sklearn.model_selection import train_test_split\n",
        "from sklearn.neighbors import KNeighborsClassifier\n",
        "from sklearn.ensemble import RandomForestClassifier\n",
        "from sklearn.ensemble import GradientBoostingClassifier\n",
        "from sklearn.ensemble import  AdaBoostClassifier\n",
        "from sklearn.neural_network import MLPClassifier\n",
        "from sklearn.tree import DecisionTreeClassifier\n",
        "from sklearn.naive_bayes import GaussianNB\n",
        "from sklearn.gaussian_process import GaussianProcessClassifier\n",
        "from bokeh.layouts import column\n",
        "from bokeh.models import ColumnDataSource, RangeTool\n",
        "from bokeh.plotting import figure, show\n",
        "from bokeh.io import output_notebook\n",
        "from google.colab import drive\n",
        "drive.mount('/content/drive')"
      ],
      "execution_count": 44,
      "outputs": [
        {
          "output_type": "stream",
          "text": [
            "Drive already mounted at /content/drive; to attempt to forcibly remount, call drive.mount(\"/content/drive\", force_remount=True).\n"
          ],
          "name": "stdout"
        }
      ]
    },
    {
      "cell_type": "markdown",
      "metadata": {
        "id": "ka1eTtuzg3_F"
      },
      "source": [
        "Panggil data terlebih dahulu untuk melakukan check apakah data kita sudah terbaca atau belum. Untuk diketahui, dataset yang digunakan tidak dijelaskan secara detail. Saya akan sedikit menjelaskan kolom yang terdapat pada dataset\n",
        "\n",
        "\n",
        "*   **date** = merupakan kolom tanggal dari 1 Maret - 27 Maret 2020\n",
        "*   **odp_process** = singkatan dari orang yang sedang dalam tahap proses pantauan\n",
        "*   **odp_end** = singkatan dari orang sudah selesai dalam pantauan \n",
        "* **odp_total** = jumlah dari odp_proses dan odp_end\n",
        "* **pdp_process** = singkatan dari pasien yang sedang dalam proses pantauan\n",
        "* **pdp_end** = singkatan dari pasien yang telah selesaid alam  pantauan\n",
        "* **pdp_total** = jumlah dari pdp_proses dan pdp_end\n",
        "* **jakbar** = jakarta barat\n",
        "* **jakpus** = jakarta pusat\n",
        "* **jaksel** = jakarta selatan\n",
        "* **jaktim** = jakarta timur\n",
        "* **jakut** = jakarta utara\n",
        "* **outsidejakarta** = diluar jakarta\n",
        "* **unknown** = tidak diketahui\n",
        "* **confirmed** = terkonfirmasi\n",
        "* **released** = rilis\n",
        "* **deceased** = meninggal\n",
        "* **hospitalized** = dirumah sakit\n",
        "* **self_isolated** = isolasi mandiri\n",
        "\n"
      ]
    },
    {
      "cell_type": "code",
      "metadata": {
        "id": "OHAYb5kKQ1ty"
      },
      "source": [
        "df = pd.read_csv(\"../content/drive/My Drive/Colab Notebooks/jakarta.csv\", delimiter=',')\n",
        "df.tail()"
      ],
      "execution_count": null,
      "outputs": []
    },
    {
      "cell_type": "code",
      "metadata": {
        "id": "x7HiTVCpREFS"
      },
      "source": [
        "df.shape"
      ],
      "execution_count": null,
      "outputs": []
    },
    {
      "cell_type": "code",
      "metadata": {
        "id": "o4bM97IgRHqa"
      },
      "source": [
        "df.isnull().sum()"
      ],
      "execution_count": null,
      "outputs": []
    },
    {
      "cell_type": "markdown",
      "metadata": {
        "id": "LESPH9dHoq6M"
      },
      "source": [
        "### Data Cleaning"
      ]
    },
    {
      "cell_type": "markdown",
      "metadata": {
        "id": "dEneeBa9oSCN"
      },
      "source": [
        "Di sini kita dapat memeriksa kualitas data. Dengan kata lain, seberapa bersih dataset yang kita miliki. \n",
        "`missingval_plot()` - memberikan gambaran tingkat tinggi tentang nilai yang hilang dalam kumpulan data. Ini menunjukkan dengan tepat kolom dan baris mana yang harus diperiksa secara lebih rinci. Bagian bawah plot menunjukkan nilai yang hilang (warna hitam) di DataFrame."
      ]
    },
    {
      "cell_type": "code",
      "metadata": {
        "id": "I1AujUtSRLF6"
      },
      "source": [
        "df = pd.read_csv('../content/drive/My Drive/Colab Notebooks/jakarta.csv')\n",
        "klib.missingval_plot(df)"
      ],
      "execution_count": null,
      "outputs": []
    },
    {
      "cell_type": "markdown",
      "metadata": {
        "id": "RZQtqcgho1PE"
      },
      "source": [
        "Seperti yang sudah saya jelaskan diatas, kita menggunakan klib untuk membersihkan data"
      ]
    },
    {
      "cell_type": "code",
      "metadata": {
        "id": "TYNjn4_fRWzr"
      },
      "source": [
        "df_cleaned = klib.data_cleaning(df)"
      ],
      "execution_count": null,
      "outputs": []
    },
    {
      "cell_type": "markdown",
      "metadata": {
        "id": "-CatsJewt7Cm"
      },
      "source": [
        "### Menampilkan Semua Data yang Berkorelasi"
      ]
    },
    {
      "cell_type": "code",
      "metadata": {
        "id": "NUtDH5Ebt8PF"
      },
      "source": [
        ""
      ],
      "execution_count": null,
      "outputs": []
    },
    {
      "cell_type": "code",
      "metadata": {
        "id": "T2n2RJzfTA_c"
      },
      "source": [
        "klib.corr_plot(df_cleaned, annot=False)"
      ],
      "execution_count": null,
      "outputs": []
    },
    {
      "cell_type": "code",
      "metadata": {
        "id": "VPgy4Z24TFwM"
      },
      "source": [
        "klib.corr_plot(df_cleaned, split='pos', annot=False)"
      ],
      "execution_count": null,
      "outputs": []
    },
    {
      "cell_type": "code",
      "metadata": {
        "id": "r77VKbGTTNED"
      },
      "source": [
        "klib.corr_mat(df_cleaned)"
      ],
      "execution_count": null,
      "outputs": []
    },
    {
      "cell_type": "markdown",
      "metadata": {
        "id": "ru6aVBLYuQyu"
      },
      "source": [
        "### Distribusi Plot"
      ]
    },
    {
      "cell_type": "markdown",
      "metadata": {
        "id": "V970HsWouY_2"
      },
      "source": [
        "dari dataset kita dapat melihat nilai tengah dan rata-rata angka yang muncul pada tiap kolom dengan nilai densitas yang berbeda"
      ]
    },
    {
      "cell_type": "code",
      "metadata": {
        "id": "njNoNOzHTeO7"
      },
      "source": [
        "klib.dist_plot(df_cleaned)"
      ],
      "execution_count": null,
      "outputs": []
    },
    {
      "cell_type": "markdown",
      "metadata": {
        "id": "e1i5efqFuu8O"
      },
      "source": [
        "### Kategori Plot"
      ]
    },
    {
      "cell_type": "code",
      "metadata": {
        "id": "HegipF6XTq6E"
      },
      "source": [
        "klib.cat_plot(df, figsize=(50,15))"
      ],
      "execution_count": null,
      "outputs": []
    },
    {
      "cell_type": "markdown",
      "metadata": {
        "id": "3cHGerFwvANv"
      },
      "source": [
        "### Korelasi Data"
      ]
    },
    {
      "cell_type": "code",
      "metadata": {
        "id": "JyUS0irxYhLE"
      },
      "source": [
        "klib.corr_plot(df_cleaned, target='odp_total')"
      ],
      "execution_count": null,
      "outputs": []
    },
    {
      "cell_type": "markdown",
      "metadata": {
        "id": "1JR7y0ghvacG"
      },
      "source": [
        "### Visualisasi Data"
      ]
    },
    {
      "cell_type": "markdown",
      "metadata": {
        "id": "pubcdmMMvibe"
      },
      "source": [
        "Untuk memvisualisasikan data disini saya menggunakan plotly express dibagi menjadi 6 bagian yang menunjukkan statistik angka meningkat tiap bulannya"
      ]
    },
    {
      "cell_type": "code",
      "metadata": {
        "id": "G3PaWeGlUAlk"
      },
      "source": [
        "fig = px.bar(df, \n",
        "             x='date', y='odp_process',color_discrete_sequence=['blue'],\n",
        "             title='Proses Orang Dalam Pantauan', text='odp_process')\n",
        "fig.show()"
      ],
      "execution_count": null,
      "outputs": []
    },
    {
      "cell_type": "code",
      "metadata": {
        "id": "XgjfDmdqXY_2"
      },
      "source": [
        "fig = px.bar(df, \n",
        "             x='date', y='odp_end',color_discrete_sequence=['red'],\n",
        "             title='Orang yang Telah Selesai Dalam Pantauan', text='odp_end')\n",
        "fig.show()"
      ],
      "execution_count": null,
      "outputs": []
    },
    {
      "cell_type": "code",
      "metadata": {
        "id": "MMg9-Ya9Xsp2"
      },
      "source": [
        "fig = px.bar(df, \n",
        "             x='date', y='odp_total',color_discrete_sequence=['yellow'],\n",
        "             title='Total Orang Dalam Pantauan', text='odp_total')\n",
        "fig.show()"
      ],
      "execution_count": null,
      "outputs": []
    },
    {
      "cell_type": "code",
      "metadata": {
        "id": "dPqk3cr9Wczm"
      },
      "source": [
        "fig = px.line(df, x=\"date\", y=\"pdp_process\", color_discrete_sequence=['darksalmon'], \n",
        "              title=\"Pasien Dalam Proses Pantauan\")\n",
        "fig.show()"
      ],
      "execution_count": null,
      "outputs": []
    },
    {
      "cell_type": "code",
      "metadata": {
        "id": "D-DS7J4MX9U8"
      },
      "source": [
        "fig = px.line(df, x=\"date\", y=\"pdp_end\", color_discrete_sequence=['green'], \n",
        "              title=\"Pasien yang Sudah Selesai Dalam Pantauan\")\n",
        "fig.show()"
      ],
      "execution_count": null,
      "outputs": []
    },
    {
      "cell_type": "code",
      "metadata": {
        "id": "pjQOQPoxYL2c"
      },
      "source": [
        "fig = px.line(df, x=\"date\", y=\"pdp_total\", color_discrete_sequence=['purple'], \n",
        "              title=\"Total Pasien Dalam Pantauan\")\n",
        "fig.show()"
      ],
      "execution_count": null,
      "outputs": []
    },
    {
      "cell_type": "markdown",
      "metadata": {
        "id": "iwuJJshHwy83"
      },
      "source": [
        "Kemudian kita tutup dengan **pie chart** menggambarkan seberapa persen dominasi masyarakat yang terkena corona di tiap tiap daerah di Jakarta"
      ]
    },
    {
      "cell_type": "code",
      "metadata": {
        "id": "F06gE1lMwA0X"
      },
      "source": [
        "labels = 'jakbar', 'jakpus', 'jaksel','jaktim', 'jakut'\n",
        "sections = [307, 232, 459, 325, 323]\n",
        "colors = ['c', 'g', 'y', 'b','r']\n",
        "\n",
        "plt.pie(sections, labels=labels, colors=colors,\n",
        "        startangle=90,\n",
        "        explode = (0, 0, 0, 0, 0),\n",
        "        autopct = '%1.2f%%')\n",
        "\n",
        "plt.axis('equal')\n",
        "plt.title('Peta Sebaran')\n",
        "plt.show()"
      ],
      "execution_count": null,
      "outputs": []
    },
    {
      "cell_type": "markdown",
      "metadata": {
        "id": "CJGZiJwiyJ1T"
      },
      "source": [
        "# Task 2 menggunakan dataset patient.csv"
      ]
    },
    {
      "cell_type": "markdown",
      "metadata": {
        "id": "jE5Zz6nKaPi-"
      },
      "source": [
        "### Import Data"
      ]
    },
    {
      "cell_type": "markdown",
      "metadata": {
        "id": "plDxVA_tKzGx"
      },
      "source": [
        "Check header dataset data frame"
      ]
    },
    {
      "cell_type": "code",
      "metadata": {
        "colab": {
          "base_uri": "https://localhost:8080/",
          "height": 204
        },
        "id": "EVMBG66XJh-K",
        "outputId": "4b3b6c26-2bd4-4568-8072-244bf67c6a33"
      },
      "source": [
        "data = pd.read_csv('../content/drive/My Drive/Colab Notebooks/patient.csv')\n",
        "data.head()"
      ],
      "execution_count": 28,
      "outputs": [
        {
          "output_type": "execute_result",
          "data": {
            "text/html": [
              "<div>\n",
              "<style scoped>\n",
              "    .dataframe tbody tr th:only-of-type {\n",
              "        vertical-align: middle;\n",
              "    }\n",
              "\n",
              "    .dataframe tbody tr th {\n",
              "        vertical-align: top;\n",
              "    }\n",
              "\n",
              "    .dataframe thead th {\n",
              "        text-align: right;\n",
              "    }\n",
              "</style>\n",
              "<table border=\"1\" class=\"dataframe\">\n",
              "  <thead>\n",
              "    <tr style=\"text-align: right;\">\n",
              "      <th></th>\n",
              "      <th>patient_id</th>\n",
              "      <th>gender</th>\n",
              "      <th>age</th>\n",
              "      <th>nationality</th>\n",
              "      <th>province</th>\n",
              "      <th>current_state</th>\n",
              "      <th>contacted_with</th>\n",
              "      <th>confirmed_date</th>\n",
              "      <th>released_date</th>\n",
              "      <th>deceased_date</th>\n",
              "      <th>hospital</th>\n",
              "    </tr>\n",
              "  </thead>\n",
              "  <tbody>\n",
              "    <tr>\n",
              "      <th>0</th>\n",
              "      <td>1</td>\n",
              "      <td>female</td>\n",
              "      <td>31.0</td>\n",
              "      <td>indonesia</td>\n",
              "      <td>DKI Jakarta</td>\n",
              "      <td>released</td>\n",
              "      <td>NaN</td>\n",
              "      <td>2-Mar-20</td>\n",
              "      <td>13-Mar-20</td>\n",
              "      <td>NaN</td>\n",
              "      <td>RSPI Sulianti Saroso</td>\n",
              "    </tr>\n",
              "    <tr>\n",
              "      <th>1</th>\n",
              "      <td>2</td>\n",
              "      <td>female</td>\n",
              "      <td>64.0</td>\n",
              "      <td>indonesia</td>\n",
              "      <td>DKI Jakarta</td>\n",
              "      <td>released</td>\n",
              "      <td>1.0</td>\n",
              "      <td>2-Mar-20</td>\n",
              "      <td>16-Mar-20</td>\n",
              "      <td>NaN</td>\n",
              "      <td>RSPI Sulianti Saroso</td>\n",
              "    </tr>\n",
              "    <tr>\n",
              "      <th>2</th>\n",
              "      <td>3</td>\n",
              "      <td>female</td>\n",
              "      <td>33.0</td>\n",
              "      <td>indonesia</td>\n",
              "      <td>DKI Jakarta</td>\n",
              "      <td>released</td>\n",
              "      <td>1.0</td>\n",
              "      <td>6-Mar-20</td>\n",
              "      <td>13-Mar-20</td>\n",
              "      <td>NaN</td>\n",
              "      <td>RSPI Sulianti Saroso</td>\n",
              "    </tr>\n",
              "    <tr>\n",
              "      <th>3</th>\n",
              "      <td>4</td>\n",
              "      <td>female</td>\n",
              "      <td>34.0</td>\n",
              "      <td>indonesia</td>\n",
              "      <td>DKI Jakarta</td>\n",
              "      <td>isolated</td>\n",
              "      <td>1.0</td>\n",
              "      <td>6-Mar-20</td>\n",
              "      <td>NaN</td>\n",
              "      <td>NaN</td>\n",
              "      <td>RSPI Sulianti Saroso</td>\n",
              "    </tr>\n",
              "    <tr>\n",
              "      <th>4</th>\n",
              "      <td>5</td>\n",
              "      <td>male</td>\n",
              "      <td>55.0</td>\n",
              "      <td>indonesia</td>\n",
              "      <td>DKI Jakarta</td>\n",
              "      <td>isolated</td>\n",
              "      <td>1.0</td>\n",
              "      <td>8-Mar-20</td>\n",
              "      <td>NaN</td>\n",
              "      <td>NaN</td>\n",
              "      <td>RS Persahabatan</td>\n",
              "    </tr>\n",
              "  </tbody>\n",
              "</table>\n",
              "</div>"
            ],
            "text/plain": [
              "   patient_id  gender   age  ... released_date deceased_date              hospital\n",
              "0           1  female  31.0  ...     13-Mar-20           NaN  RSPI Sulianti Saroso\n",
              "1           2  female  64.0  ...     16-Mar-20           NaN  RSPI Sulianti Saroso\n",
              "2           3  female  33.0  ...     13-Mar-20           NaN  RSPI Sulianti Saroso\n",
              "3           4  female  34.0  ...           NaN           NaN  RSPI Sulianti Saroso\n",
              "4           5    male  55.0  ...           NaN           NaN       RS Persahabatan\n",
              "\n",
              "[5 rows x 11 columns]"
            ]
          },
          "metadata": {
            "tags": []
          },
          "execution_count": 28
        }
      ]
    },
    {
      "cell_type": "code",
      "metadata": {
        "colab": {
          "base_uri": "https://localhost:8080/",
          "height": 204
        },
        "id": "xNt14C1fj6Xt",
        "outputId": "e6e35707-488f-4724-9365-88ce38e74a5c"
      },
      "source": [
        "df = pd.read_csv(\"../content/drive/My Drive/Colab Notebooks/patient.csv\", delimiter=',')\n",
        "df.tail()"
      ],
      "execution_count": 29,
      "outputs": [
        {
          "output_type": "execute_result",
          "data": {
            "text/html": [
              "<div>\n",
              "<style scoped>\n",
              "    .dataframe tbody tr th:only-of-type {\n",
              "        vertical-align: middle;\n",
              "    }\n",
              "\n",
              "    .dataframe tbody tr th {\n",
              "        vertical-align: top;\n",
              "    }\n",
              "\n",
              "    .dataframe thead th {\n",
              "        text-align: right;\n",
              "    }\n",
              "</style>\n",
              "<table border=\"1\" class=\"dataframe\">\n",
              "  <thead>\n",
              "    <tr style=\"text-align: right;\">\n",
              "      <th></th>\n",
              "      <th>patient_id</th>\n",
              "      <th>gender</th>\n",
              "      <th>age</th>\n",
              "      <th>nationality</th>\n",
              "      <th>province</th>\n",
              "      <th>current_state</th>\n",
              "      <th>contacted_with</th>\n",
              "      <th>confirmed_date</th>\n",
              "      <th>released_date</th>\n",
              "      <th>deceased_date</th>\n",
              "      <th>hospital</th>\n",
              "    </tr>\n",
              "  </thead>\n",
              "  <tbody>\n",
              "    <tr>\n",
              "      <th>888</th>\n",
              "      <td>889</td>\n",
              "      <td>NaN</td>\n",
              "      <td>NaN</td>\n",
              "      <td>NaN</td>\n",
              "      <td>NaN</td>\n",
              "      <td>NaN</td>\n",
              "      <td>NaN</td>\n",
              "      <td>26-Mar-20</td>\n",
              "      <td>NaN</td>\n",
              "      <td>NaN</td>\n",
              "      <td>NaN</td>\n",
              "    </tr>\n",
              "    <tr>\n",
              "      <th>889</th>\n",
              "      <td>890</td>\n",
              "      <td>NaN</td>\n",
              "      <td>NaN</td>\n",
              "      <td>NaN</td>\n",
              "      <td>NaN</td>\n",
              "      <td>NaN</td>\n",
              "      <td>NaN</td>\n",
              "      <td>26-Mar-20</td>\n",
              "      <td>NaN</td>\n",
              "      <td>NaN</td>\n",
              "      <td>NaN</td>\n",
              "    </tr>\n",
              "    <tr>\n",
              "      <th>890</th>\n",
              "      <td>891</td>\n",
              "      <td>NaN</td>\n",
              "      <td>NaN</td>\n",
              "      <td>NaN</td>\n",
              "      <td>NaN</td>\n",
              "      <td>NaN</td>\n",
              "      <td>NaN</td>\n",
              "      <td>26-Mar-20</td>\n",
              "      <td>NaN</td>\n",
              "      <td>NaN</td>\n",
              "      <td>NaN</td>\n",
              "    </tr>\n",
              "    <tr>\n",
              "      <th>891</th>\n",
              "      <td>892</td>\n",
              "      <td>NaN</td>\n",
              "      <td>NaN</td>\n",
              "      <td>NaN</td>\n",
              "      <td>NaN</td>\n",
              "      <td>NaN</td>\n",
              "      <td>NaN</td>\n",
              "      <td>26-Mar-20</td>\n",
              "      <td>NaN</td>\n",
              "      <td>NaN</td>\n",
              "      <td>NaN</td>\n",
              "    </tr>\n",
              "    <tr>\n",
              "      <th>892</th>\n",
              "      <td>893</td>\n",
              "      <td>NaN</td>\n",
              "      <td>NaN</td>\n",
              "      <td>NaN</td>\n",
              "      <td>NaN</td>\n",
              "      <td>NaN</td>\n",
              "      <td>NaN</td>\n",
              "      <td>26-Mar-20</td>\n",
              "      <td>NaN</td>\n",
              "      <td>NaN</td>\n",
              "      <td>NaN</td>\n",
              "    </tr>\n",
              "  </tbody>\n",
              "</table>\n",
              "</div>"
            ],
            "text/plain": [
              "     patient_id gender  age  ... released_date deceased_date hospital\n",
              "888         889    NaN  NaN  ...           NaN           NaN      NaN\n",
              "889         890    NaN  NaN  ...           NaN           NaN      NaN\n",
              "890         891    NaN  NaN  ...           NaN           NaN      NaN\n",
              "891         892    NaN  NaN  ...           NaN           NaN      NaN\n",
              "892         893    NaN  NaN  ...           NaN           NaN      NaN\n",
              "\n",
              "[5 rows x 11 columns]"
            ]
          },
          "metadata": {
            "tags": []
          },
          "execution_count": 29
        }
      ]
    },
    {
      "cell_type": "code",
      "metadata": {
        "colab": {
          "base_uri": "https://localhost:8080/"
        },
        "id": "l9FxEVuCHOf7",
        "outputId": "6cc4f0e4-84aa-4d78-9de8-7e1b854bec56"
      },
      "source": [
        "data.info()"
      ],
      "execution_count": 30,
      "outputs": [
        {
          "output_type": "stream",
          "text": [
            "<class 'pandas.core.frame.DataFrame'>\n",
            "RangeIndex: 893 entries, 0 to 892\n",
            "Data columns (total 11 columns):\n",
            " #   Column          Non-Null Count  Dtype  \n",
            "---  ------          --------------  -----  \n",
            " 0   patient_id      893 non-null    int64  \n",
            " 1   gender          156 non-null    object \n",
            " 2   age             156 non-null    float64\n",
            " 3   nationality     156 non-null    object \n",
            " 4   province        156 non-null    object \n",
            " 5   current_state   166 non-null    object \n",
            " 6   contacted_with  27 non-null     float64\n",
            " 7   confirmed_date  893 non-null    object \n",
            " 8   released_date   5 non-null      object \n",
            " 9   deceased_date   4 non-null      object \n",
            " 10  hospital        17 non-null     object \n",
            "dtypes: float64(2), int64(1), object(8)\n",
            "memory usage: 76.9+ KB\n"
          ],
          "name": "stdout"
        }
      ]
    },
    {
      "cell_type": "markdown",
      "metadata": {
        "id": "4-8kTAg0EH57"
      },
      "source": [
        "### Data Cleaning"
      ]
    },
    {
      "cell_type": "code",
      "metadata": {
        "colab": {
          "base_uri": "https://localhost:8080/"
        },
        "id": "LMwxYfnL_gYb",
        "outputId": "c292a992-ea22-4c63-a06a-cd8777d7b8ee"
      },
      "source": [
        "df_cleaned = klib.data_cleaning(df)"
      ],
      "execution_count": 31,
      "outputs": [
        {
          "output_type": "stream",
          "text": [
            "Shape of cleaned data: (893, 7)Remaining NAs: 3675\n",
            "\n",
            "Changes:\n",
            "Dropped rows: 0\n",
            "     of which 0 duplicates. (Rows: [])\n",
            "Dropped columns: 4\n",
            "     of which 0 single valued.     Columns: []\n",
            "Dropped missing values: 3519\n",
            "Reduced memory by at least: 0.02 MB (-25.0%)\n",
            "\n"
          ],
          "name": "stdout"
        }
      ]
    },
    {
      "cell_type": "markdown",
      "metadata": {
        "id": "PDHxjLLDYGo_"
      },
      "source": [
        "### Visualisasi Data"
      ]
    },
    {
      "cell_type": "code",
      "metadata": {
        "colab": {
          "base_uri": "https://localhost:8080/",
          "height": 312
        },
        "id": "36PyW5j4Mohq",
        "outputId": "e9e133b6-3c32-4752-fd5d-99d029f87f99"
      },
      "source": [
        "fig=plt.figure() \n",
        "\n",
        "ax = fig.add_subplot(1,1,1)\n",
        "\n",
        "ax.hist(df['age'],bins = 7)\n",
        "plt.title('Usia Jumlah Penderita Corona')\n",
        "plt.xlabel('Usia')\n",
        "plt.ylabel('Jumlah')"
      ],
      "execution_count": 32,
      "outputs": [
        {
          "output_type": "execute_result",
          "data": {
            "text/plain": [
              "Text(0, 0.5, 'Jumlah')"
            ]
          },
          "metadata": {
            "tags": []
          },
          "execution_count": 32
        },
        {
          "output_type": "display_data",
          "data": {
            "image/png": "[encoded data removed]",
            "text/plain": [
              "<Figure size 432x288 with 1 Axes>"
            ]
          },
          "metadata": {
            "tags": [],
            "needs_background": "light"
          }
        }
      ]
    },
    {
      "cell_type": "markdown",
      "metadata": {
        "id": "ZdddigVaYu_X"
      },
      "source": [
        "**Violin Plot** dari dataset patient dengan perbandingan gender dan usia"
      ]
    },
    {
      "cell_type": "code",
      "metadata": {
        "colab": {
          "base_uri": "https://localhost:8080/",
          "height": 279
        },
        "id": "Ehf41adCYWof",
        "outputId": "92b476ea-734c-4f64-d79a-424ac2e732a3"
      },
      "source": [
        "sns.violinplot(df['age'], df['gender'])\n",
        "sns.despine()"
      ],
      "execution_count": 33,
      "outputs": [
        {
          "output_type": "display_data",
          "data": {
            "image/png": "[encoded data removed]",
            "text/plain": [
              "<Figure size 432x288 with 1 Axes>"
            ]
          },
          "metadata": {
            "tags": [],
            "needs_background": "light"
          }
        }
      ]
    },
    {
      "cell_type": "markdown",
      "metadata": {
        "id": "EI8k-n8zmg7N"
      },
      "source": [
        "# Task 3 menggunakan dataset confirmed_acc.csv\n",
        "\n"
      ]
    },
    {
      "cell_type": "code",
      "metadata": {
        "colab": {
          "base_uri": "https://localhost:8080/",
          "height": 204
        },
        "id": "qTi1OSiDmvxN",
        "outputId": "85b16ba8-2638-4f04-cdee-a58111ee235e"
      },
      "source": [
        "data = pd.read_csv('../content/drive/My Drive/Colab Notebooks/confirmed_acc.csv')\n",
        "data.head()"
      ],
      "execution_count": 34,
      "outputs": [
        {
          "output_type": "execute_result",
          "data": {
            "text/html": [
              "<div>\n",
              "<style scoped>\n",
              "    .dataframe tbody tr th:only-of-type {\n",
              "        vertical-align: middle;\n",
              "    }\n",
              "\n",
              "    .dataframe tbody tr th {\n",
              "        vertical-align: top;\n",
              "    }\n",
              "\n",
              "    .dataframe thead th {\n",
              "        text-align: right;\n",
              "    }\n",
              "</style>\n",
              "<table border=\"1\" class=\"dataframe\">\n",
              "  <thead>\n",
              "    <tr style=\"text-align: right;\">\n",
              "      <th></th>\n",
              "      <th>date</th>\n",
              "      <th>cases</th>\n",
              "    </tr>\n",
              "  </thead>\n",
              "  <tbody>\n",
              "    <tr>\n",
              "      <th>0</th>\n",
              "      <td>1/22/2020</td>\n",
              "      <td>0</td>\n",
              "    </tr>\n",
              "    <tr>\n",
              "      <th>1</th>\n",
              "      <td>1/23/2020</td>\n",
              "      <td>0</td>\n",
              "    </tr>\n",
              "    <tr>\n",
              "      <th>2</th>\n",
              "      <td>1/24/2020</td>\n",
              "      <td>0</td>\n",
              "    </tr>\n",
              "    <tr>\n",
              "      <th>3</th>\n",
              "      <td>1/25/2020</td>\n",
              "      <td>0</td>\n",
              "    </tr>\n",
              "    <tr>\n",
              "      <th>4</th>\n",
              "      <td>1/26/2020</td>\n",
              "      <td>0</td>\n",
              "    </tr>\n",
              "  </tbody>\n",
              "</table>\n",
              "</div>"
            ],
            "text/plain": [
              "        date  cases\n",
              "0  1/22/2020      0\n",
              "1  1/23/2020      0\n",
              "2  1/24/2020      0\n",
              "3  1/25/2020      0\n",
              "4  1/26/2020      0"
            ]
          },
          "metadata": {
            "tags": []
          },
          "execution_count": 34
        }
      ]
    },
    {
      "cell_type": "code",
      "metadata": {
        "colab": {
          "base_uri": "https://localhost:8080/",
          "height": 204
        },
        "id": "CeyCCem0neaV",
        "outputId": "4c3e878a-f7e1-4ec6-96de-7901d1694204"
      },
      "source": [
        "df = pd.read_csv(\"../content/drive/My Drive/Colab Notebooks/confirmed_acc.csv\", delimiter=',')\n",
        "df.tail()"
      ],
      "execution_count": 35,
      "outputs": [
        {
          "output_type": "execute_result",
          "data": {
            "text/html": [
              "<div>\n",
              "<style scoped>\n",
              "    .dataframe tbody tr th:only-of-type {\n",
              "        vertical-align: middle;\n",
              "    }\n",
              "\n",
              "    .dataframe tbody tr th {\n",
              "        vertical-align: top;\n",
              "    }\n",
              "\n",
              "    .dataframe thead th {\n",
              "        text-align: right;\n",
              "    }\n",
              "</style>\n",
              "<table border=\"1\" class=\"dataframe\">\n",
              "  <thead>\n",
              "    <tr style=\"text-align: right;\">\n",
              "      <th></th>\n",
              "      <th>date</th>\n",
              "      <th>cases</th>\n",
              "    </tr>\n",
              "  </thead>\n",
              "  <tbody>\n",
              "    <tr>\n",
              "      <th>75</th>\n",
              "      <td>4/6/2020</td>\n",
              "      <td>2491</td>\n",
              "    </tr>\n",
              "    <tr>\n",
              "      <th>76</th>\n",
              "      <td>4/7/2020</td>\n",
              "      <td>2738</td>\n",
              "    </tr>\n",
              "    <tr>\n",
              "      <th>77</th>\n",
              "      <td>4/8/2020</td>\n",
              "      <td>2956</td>\n",
              "    </tr>\n",
              "    <tr>\n",
              "      <th>78</th>\n",
              "      <td>4/9/2020</td>\n",
              "      <td>3293</td>\n",
              "    </tr>\n",
              "    <tr>\n",
              "      <th>79</th>\n",
              "      <td>4/10/2020</td>\n",
              "      <td>3512</td>\n",
              "    </tr>\n",
              "  </tbody>\n",
              "</table>\n",
              "</div>"
            ],
            "text/plain": [
              "         date  cases\n",
              "75   4/6/2020   2491\n",
              "76   4/7/2020   2738\n",
              "77   4/8/2020   2956\n",
              "78   4/9/2020   3293\n",
              "79  4/10/2020   3512"
            ]
          },
          "metadata": {
            "tags": []
          },
          "execution_count": 35
        }
      ]
    },
    {
      "cell_type": "code",
      "metadata": {
        "colab": {
          "base_uri": "https://localhost:8080/"
        },
        "id": "YGalXmIbnjY0",
        "outputId": "e7bc3568-a852-4356-ef4a-df87a2d66ef3"
      },
      "source": [
        "data.info()"
      ],
      "execution_count": 36,
      "outputs": [
        {
          "output_type": "stream",
          "text": [
            "<class 'pandas.core.frame.DataFrame'>\n",
            "RangeIndex: 80 entries, 0 to 79\n",
            "Data columns (total 2 columns):\n",
            " #   Column  Non-Null Count  Dtype \n",
            "---  ------  --------------  ----- \n",
            " 0   date    80 non-null     object\n",
            " 1   cases   80 non-null     int64 \n",
            "dtypes: int64(1), object(1)\n",
            "memory usage: 1.4+ KB\n"
          ],
          "name": "stdout"
        }
      ]
    },
    {
      "cell_type": "code",
      "metadata": {
        "colab": {
          "base_uri": "https://localhost:8080/",
          "height": 353
        },
        "id": "nuOyQkgmoC28",
        "outputId": "3fe80311-c28a-42a1-fa88-724570b34ce1"
      },
      "source": [
        "var = df.groupby('date').cases.sum()\n",
        "fig = plt.figure()\n",
        "ax1 = fig.add_subplot(1,1,1)\n",
        "ax1.set_xlabel('date')\n",
        "ax1.set_ylabel('Jumlah Kasus')\n",
        "ax1.set_title(\"Jumlah Kasus Corona\")\n",
        "var.plot(kind='bar')"
      ],
      "execution_count": 64,
      "outputs": [
        {
          "output_type": "execute_result",
          "data": {
            "text/plain": [
              "<matplotlib.axes._subplots.AxesSubplot at 0x7fcaf70f9690>"
            ]
          },
          "metadata": {
            "tags": []
          },
          "execution_count": 64
        },
        {
          "output_type": "display_data",
          "data": {
            "image/png": "[encoded data removed]",
            "text/plain": [
              "<Figure size 432x288 with 1 Axes>"
            ]
          },
          "metadata": {
            "tags": [],
            "needs_background": "light"
          }
        }
      ]
    }
  ]
}