{
  "nbformat": 4,
  "nbformat_minor": 0,
  "metadata": {
    "colab": {
      "name": "covid",
      "provenance": [],
      "collapsed_sections": [
        "Cq7BWoAedz4A",
        "DiKb83DhedV2",
        "rUoTJ6-yd_Rf",
        "Zn9altJOeFwY",
        "xTScrFM6eOTf",
        "UzciFeDueTO-",
        "ZHE54831cdJw",
        "3EguPrhvfx4-"
      ],
      "authorship_tag": "ABX9TyNJEqs3PvpF/pXsXfGPVe96",
      "include_colab_link": true
    },
    "kernelspec": {
      "name": "python3",
      "display_name": "Python 3"
    },
    "language_info": {
      "name": "python"
    }
  },
  "cells": [
    {
      "cell_type": "markdown",
      "metadata": {
        "id": "view-in-github",
        "colab_type": "text"
      },
      "source": [
        "<a href=\"https://colab.research.google.com/github/hrtywhy/Machine-Learning/blob/main/covid.ipynb\" target=\"_parent\"><img src=\"https://colab.research.google.com/assets/colab-badge.svg\" alt=\"Open In Colab\"/></a>"
      ]
    },
    {
      "cell_type": "markdown",
      "metadata": {
        "id": "Cq7BWoAedz4A"
      },
      "source": [
        "# Import Library dan Modul"
      ]
    },
    {
      "cell_type": "code",
      "metadata": {
        "colab": {
          "base_uri": "https://localhost:8080/"
        },
        "id": "EknqDvKwJ5p9",
        "outputId": "3f5b0395-535e-479a-e375-970c08113f4a"
      },
      "source": [
        "import numpy as np\n",
        "import matplotlib.pyplot as plt\n",
        "import pandas as pd\n",
        "import datetime\n",
        "import seaborn as sns\n",
        "import operator\n",
        "import matplotlib.pyplot as plt\n",
        "from ipywidgets import interact\n",
        "from IPython.display import Markdown as md\n",
        "from datetime import date, timedelta, datetime\n",
        "from numpy import sqrt\n",
        "from pandas import read_csv, to_datetime\n",
        "from prettytable import PrettyTable\n",
        "from sklearn.linear_model import LinearRegression\n",
        "from sklearn.metrics import mean_squared_error, r2_score\n",
        "from sklearn.preprocessing import PolynomialFeatures\n",
        "from google.colab import drive\n",
        "drive.mount('/content/drive')"
      ],
      "execution_count": 3,
      "outputs": [
        {
          "output_type": "stream",
          "text": [
            "Drive already mounted at /content/drive; to attempt to forcibly remount, call drive.mount(\"/content/drive\", force_remount=True).\n"
          ],
          "name": "stdout"
        }
      ]
    },
    {
      "cell_type": "code",
      "metadata": {
        "id": "VwygsJGTbKkA"
      },
      "source": [
        "df = read_csv('../content/drive/My Drive/Colab Notebooks/confirmed_acc.csv').iloc[39:]\n",
        "df = df.reset_index()\n",
        "\n",
        "last_date = to_datetime(df['date'].iloc[-1], format='%m/%d/%Y')\n",
        "data = [\n",
        "            ['4/11/2020', 3842],\n",
        "            ['4/12/2020', 4241],\n",
        "            ['4/13/2020', 4557],\n",
        "            ['4/14/2020', 4839],\n",
        "            ['4/15/2020', 5136],\n",
        "            ['4/16/2020', 5527],\n",
        "            ['4/17/2020', 5923],\n",
        "            ['4/18/2020', 6248],\n",
        "            ['4/19/2020', 6575],\n",
        "            ['4/20/2020', 6760],\n",
        "            ['4/21/2020', 7135],\n",
        "            ['4/22/2020', 7418],\n",
        "            ['4/23/2020', 7775],\n",
        "            ['4/24/2020', 8211],\n",
        "            ['4/25/2020', 8607],\n",
        "            ['4/26/2020', 8882],\n",
        "            ['4/27/2020', 9096],\n",
        "            ['4/28/2020', 9511],\n",
        "            ['4/29/2020', 9971]\n",
        "        ]\n",
        "\n",
        "for k,v in data:\n",
        "    if datetime.strptime(k, \"%m/%d/%Y\") > last_date:\n",
        "        df = df.append({'date' : k, 'cases' : v} ,ignore_index=True)\n",
        "\n",
        "last_date = to_datetime(df['date'].iloc[-1], format='%m/%d/%Y')"
      ],
      "execution_count": 5,
      "outputs": []
    },
    {
      "cell_type": "code",
      "metadata": {
        "colab": {
          "base_uri": "https://localhost:8080/",
          "height": 1000
        },
        "id": "6tMzksLIbYEP",
        "outputId": "865a8d64-fd1e-4863-fe22-50109d06f37e"
      },
      "source": [
        "df['index'] = df.index\n",
        "\n",
        "df.columns = ['indeks', 'tanggal', 'kasus']\n",
        "df"
      ],
      "execution_count": 6,
      "outputs": [
        {
          "output_type": "execute_result",
          "data": {
            "text/html": [
              "<div>\n",
              "<style scoped>\n",
              "    .dataframe tbody tr th:only-of-type {\n",
              "        vertical-align: middle;\n",
              "    }\n",
              "\n",
              "    .dataframe tbody tr th {\n",
              "        vertical-align: top;\n",
              "    }\n",
              "\n",
              "    .dataframe thead th {\n",
              "        text-align: right;\n",
              "    }\n",
              "</style>\n",
              "<table border=\"1\" class=\"dataframe\">\n",
              "  <thead>\n",
              "    <tr style=\"text-align: right;\">\n",
              "      <th></th>\n",
              "      <th>indeks</th>\n",
              "      <th>tanggal</th>\n",
              "      <th>kasus</th>\n",
              "    </tr>\n",
              "  </thead>\n",
              "  <tbody>\n",
              "    <tr>\n",
              "      <th>0</th>\n",
              "      <td>0</td>\n",
              "      <td>3/1/2020</td>\n",
              "      <td>0</td>\n",
              "    </tr>\n",
              "    <tr>\n",
              "      <th>1</th>\n",
              "      <td>1</td>\n",
              "      <td>3/2/2020</td>\n",
              "      <td>2</td>\n",
              "    </tr>\n",
              "    <tr>\n",
              "      <th>2</th>\n",
              "      <td>2</td>\n",
              "      <td>3/3/2020</td>\n",
              "      <td>2</td>\n",
              "    </tr>\n",
              "    <tr>\n",
              "      <th>3</th>\n",
              "      <td>3</td>\n",
              "      <td>3/4/2020</td>\n",
              "      <td>2</td>\n",
              "    </tr>\n",
              "    <tr>\n",
              "      <th>4</th>\n",
              "      <td>4</td>\n",
              "      <td>3/5/2020</td>\n",
              "      <td>2</td>\n",
              "    </tr>\n",
              "    <tr>\n",
              "      <th>5</th>\n",
              "      <td>5</td>\n",
              "      <td>3/6/2020</td>\n",
              "      <td>4</td>\n",
              "    </tr>\n",
              "    <tr>\n",
              "      <th>6</th>\n",
              "      <td>6</td>\n",
              "      <td>3/7/2020</td>\n",
              "      <td>4</td>\n",
              "    </tr>\n",
              "    <tr>\n",
              "      <th>7</th>\n",
              "      <td>7</td>\n",
              "      <td>3/8/2020</td>\n",
              "      <td>6</td>\n",
              "    </tr>\n",
              "    <tr>\n",
              "      <th>8</th>\n",
              "      <td>8</td>\n",
              "      <td>3/9/2020</td>\n",
              "      <td>19</td>\n",
              "    </tr>\n",
              "    <tr>\n",
              "      <th>9</th>\n",
              "      <td>9</td>\n",
              "      <td>3/10/2020</td>\n",
              "      <td>27</td>\n",
              "    </tr>\n",
              "    <tr>\n",
              "      <th>10</th>\n",
              "      <td>10</td>\n",
              "      <td>3/11/2020</td>\n",
              "      <td>34</td>\n",
              "    </tr>\n",
              "    <tr>\n",
              "      <th>11</th>\n",
              "      <td>11</td>\n",
              "      <td>3/12/2020</td>\n",
              "      <td>34</td>\n",
              "    </tr>\n",
              "    <tr>\n",
              "      <th>12</th>\n",
              "      <td>12</td>\n",
              "      <td>3/13/2020</td>\n",
              "      <td>69</td>\n",
              "    </tr>\n",
              "    <tr>\n",
              "      <th>13</th>\n",
              "      <td>13</td>\n",
              "      <td>3/14/2020</td>\n",
              "      <td>96</td>\n",
              "    </tr>\n",
              "    <tr>\n",
              "      <th>14</th>\n",
              "      <td>14</td>\n",
              "      <td>3/15/2020</td>\n",
              "      <td>117</td>\n",
              "    </tr>\n",
              "    <tr>\n",
              "      <th>15</th>\n",
              "      <td>15</td>\n",
              "      <td>3/16/2020</td>\n",
              "      <td>134</td>\n",
              "    </tr>\n",
              "    <tr>\n",
              "      <th>16</th>\n",
              "      <td>16</td>\n",
              "      <td>3/17/2020</td>\n",
              "      <td>172</td>\n",
              "    </tr>\n",
              "    <tr>\n",
              "      <th>17</th>\n",
              "      <td>17</td>\n",
              "      <td>3/18/2020</td>\n",
              "      <td>227</td>\n",
              "    </tr>\n",
              "    <tr>\n",
              "      <th>18</th>\n",
              "      <td>18</td>\n",
              "      <td>3/19/2020</td>\n",
              "      <td>309</td>\n",
              "    </tr>\n",
              "    <tr>\n",
              "      <th>19</th>\n",
              "      <td>19</td>\n",
              "      <td>3/20/2020</td>\n",
              "      <td>369</td>\n",
              "    </tr>\n",
              "    <tr>\n",
              "      <th>20</th>\n",
              "      <td>20</td>\n",
              "      <td>3/21/2020</td>\n",
              "      <td>450</td>\n",
              "    </tr>\n",
              "    <tr>\n",
              "      <th>21</th>\n",
              "      <td>21</td>\n",
              "      <td>3/22/2020</td>\n",
              "      <td>514</td>\n",
              "    </tr>\n",
              "    <tr>\n",
              "      <th>22</th>\n",
              "      <td>22</td>\n",
              "      <td>3/23/2020</td>\n",
              "      <td>579</td>\n",
              "    </tr>\n",
              "    <tr>\n",
              "      <th>23</th>\n",
              "      <td>23</td>\n",
              "      <td>3/24/2020</td>\n",
              "      <td>685</td>\n",
              "    </tr>\n",
              "    <tr>\n",
              "      <th>24</th>\n",
              "      <td>24</td>\n",
              "      <td>3/25/2020</td>\n",
              "      <td>790</td>\n",
              "    </tr>\n",
              "    <tr>\n",
              "      <th>25</th>\n",
              "      <td>25</td>\n",
              "      <td>3/26/2020</td>\n",
              "      <td>893</td>\n",
              "    </tr>\n",
              "    <tr>\n",
              "      <th>26</th>\n",
              "      <td>26</td>\n",
              "      <td>3/27/2020</td>\n",
              "      <td>1046</td>\n",
              "    </tr>\n",
              "    <tr>\n",
              "      <th>27</th>\n",
              "      <td>27</td>\n",
              "      <td>3/28/2020</td>\n",
              "      <td>1155</td>\n",
              "    </tr>\n",
              "    <tr>\n",
              "      <th>28</th>\n",
              "      <td>28</td>\n",
              "      <td>3/29/2020</td>\n",
              "      <td>1285</td>\n",
              "    </tr>\n",
              "    <tr>\n",
              "      <th>29</th>\n",
              "      <td>29</td>\n",
              "      <td>3/30/2020</td>\n",
              "      <td>1414</td>\n",
              "    </tr>\n",
              "    <tr>\n",
              "      <th>30</th>\n",
              "      <td>30</td>\n",
              "      <td>3/31/2020</td>\n",
              "      <td>1528</td>\n",
              "    </tr>\n",
              "    <tr>\n",
              "      <th>31</th>\n",
              "      <td>31</td>\n",
              "      <td>4/1/2020</td>\n",
              "      <td>1677</td>\n",
              "    </tr>\n",
              "    <tr>\n",
              "      <th>32</th>\n",
              "      <td>32</td>\n",
              "      <td>4/2/2020</td>\n",
              "      <td>1790</td>\n",
              "    </tr>\n",
              "    <tr>\n",
              "      <th>33</th>\n",
              "      <td>33</td>\n",
              "      <td>4/3/2020</td>\n",
              "      <td>1986</td>\n",
              "    </tr>\n",
              "    <tr>\n",
              "      <th>34</th>\n",
              "      <td>34</td>\n",
              "      <td>4/4/2020</td>\n",
              "      <td>2092</td>\n",
              "    </tr>\n",
              "    <tr>\n",
              "      <th>35</th>\n",
              "      <td>35</td>\n",
              "      <td>4/5/2020</td>\n",
              "      <td>2273</td>\n",
              "    </tr>\n",
              "    <tr>\n",
              "      <th>36</th>\n",
              "      <td>36</td>\n",
              "      <td>4/6/2020</td>\n",
              "      <td>2491</td>\n",
              "    </tr>\n",
              "    <tr>\n",
              "      <th>37</th>\n",
              "      <td>37</td>\n",
              "      <td>4/7/2020</td>\n",
              "      <td>2738</td>\n",
              "    </tr>\n",
              "    <tr>\n",
              "      <th>38</th>\n",
              "      <td>38</td>\n",
              "      <td>4/8/2020</td>\n",
              "      <td>2956</td>\n",
              "    </tr>\n",
              "    <tr>\n",
              "      <th>39</th>\n",
              "      <td>39</td>\n",
              "      <td>4/9/2020</td>\n",
              "      <td>3293</td>\n",
              "    </tr>\n",
              "    <tr>\n",
              "      <th>40</th>\n",
              "      <td>40</td>\n",
              "      <td>4/10/2020</td>\n",
              "      <td>3512</td>\n",
              "    </tr>\n",
              "    <tr>\n",
              "      <th>41</th>\n",
              "      <td>41</td>\n",
              "      <td>4/11/2020</td>\n",
              "      <td>3842</td>\n",
              "    </tr>\n",
              "    <tr>\n",
              "      <th>42</th>\n",
              "      <td>42</td>\n",
              "      <td>4/12/2020</td>\n",
              "      <td>4241</td>\n",
              "    </tr>\n",
              "    <tr>\n",
              "      <th>43</th>\n",
              "      <td>43</td>\n",
              "      <td>4/13/2020</td>\n",
              "      <td>4557</td>\n",
              "    </tr>\n",
              "    <tr>\n",
              "      <th>44</th>\n",
              "      <td>44</td>\n",
              "      <td>4/14/2020</td>\n",
              "      <td>4839</td>\n",
              "    </tr>\n",
              "    <tr>\n",
              "      <th>45</th>\n",
              "      <td>45</td>\n",
              "      <td>4/15/2020</td>\n",
              "      <td>5136</td>\n",
              "    </tr>\n",
              "    <tr>\n",
              "      <th>46</th>\n",
              "      <td>46</td>\n",
              "      <td>4/16/2020</td>\n",
              "      <td>5527</td>\n",
              "    </tr>\n",
              "    <tr>\n",
              "      <th>47</th>\n",
              "      <td>47</td>\n",
              "      <td>4/17/2020</td>\n",
              "      <td>5923</td>\n",
              "    </tr>\n",
              "    <tr>\n",
              "      <th>48</th>\n",
              "      <td>48</td>\n",
              "      <td>4/18/2020</td>\n",
              "      <td>6248</td>\n",
              "    </tr>\n",
              "    <tr>\n",
              "      <th>49</th>\n",
              "      <td>49</td>\n",
              "      <td>4/19/2020</td>\n",
              "      <td>6575</td>\n",
              "    </tr>\n",
              "    <tr>\n",
              "      <th>50</th>\n",
              "      <td>50</td>\n",
              "      <td>4/20/2020</td>\n",
              "      <td>6760</td>\n",
              "    </tr>\n",
              "    <tr>\n",
              "      <th>51</th>\n",
              "      <td>51</td>\n",
              "      <td>4/21/2020</td>\n",
              "      <td>7135</td>\n",
              "    </tr>\n",
              "    <tr>\n",
              "      <th>52</th>\n",
              "      <td>52</td>\n",
              "      <td>4/22/2020</td>\n",
              "      <td>7418</td>\n",
              "    </tr>\n",
              "    <tr>\n",
              "      <th>53</th>\n",
              "      <td>53</td>\n",
              "      <td>4/23/2020</td>\n",
              "      <td>7775</td>\n",
              "    </tr>\n",
              "    <tr>\n",
              "      <th>54</th>\n",
              "      <td>54</td>\n",
              "      <td>4/24/2020</td>\n",
              "      <td>8211</td>\n",
              "    </tr>\n",
              "    <tr>\n",
              "      <th>55</th>\n",
              "      <td>55</td>\n",
              "      <td>4/25/2020</td>\n",
              "      <td>8607</td>\n",
              "    </tr>\n",
              "    <tr>\n",
              "      <th>56</th>\n",
              "      <td>56</td>\n",
              "      <td>4/26/2020</td>\n",
              "      <td>8882</td>\n",
              "    </tr>\n",
              "    <tr>\n",
              "      <th>57</th>\n",
              "      <td>57</td>\n",
              "      <td>4/27/2020</td>\n",
              "      <td>9096</td>\n",
              "    </tr>\n",
              "    <tr>\n",
              "      <th>58</th>\n",
              "      <td>58</td>\n",
              "      <td>4/28/2020</td>\n",
              "      <td>9511</td>\n",
              "    </tr>\n",
              "    <tr>\n",
              "      <th>59</th>\n",
              "      <td>59</td>\n",
              "      <td>4/29/2020</td>\n",
              "      <td>9971</td>\n",
              "    </tr>\n",
              "  </tbody>\n",
              "</table>\n",
              "</div>"
            ],
            "text/plain": [
              "    indeks    tanggal  kasus\n",
              "0        0   3/1/2020      0\n",
              "1        1   3/2/2020      2\n",
              "2        2   3/3/2020      2\n",
              "3        3   3/4/2020      2\n",
              "4        4   3/5/2020      2\n",
              "5        5   3/6/2020      4\n",
              "6        6   3/7/2020      4\n",
              "7        7   3/8/2020      6\n",
              "8        8   3/9/2020     19\n",
              "9        9  3/10/2020     27\n",
              "10      10  3/11/2020     34\n",
              "11      11  3/12/2020     34\n",
              "12      12  3/13/2020     69\n",
              "13      13  3/14/2020     96\n",
              "14      14  3/15/2020    117\n",
              "15      15  3/16/2020    134\n",
              "16      16  3/17/2020    172\n",
              "17      17  3/18/2020    227\n",
              "18      18  3/19/2020    309\n",
              "19      19  3/20/2020    369\n",
              "20      20  3/21/2020    450\n",
              "21      21  3/22/2020    514\n",
              "22      22  3/23/2020    579\n",
              "23      23  3/24/2020    685\n",
              "24      24  3/25/2020    790\n",
              "25      25  3/26/2020    893\n",
              "26      26  3/27/2020   1046\n",
              "27      27  3/28/2020   1155\n",
              "28      28  3/29/2020   1285\n",
              "29      29  3/30/2020   1414\n",
              "30      30  3/31/2020   1528\n",
              "31      31   4/1/2020   1677\n",
              "32      32   4/2/2020   1790\n",
              "33      33   4/3/2020   1986\n",
              "34      34   4/4/2020   2092\n",
              "35      35   4/5/2020   2273\n",
              "36      36   4/6/2020   2491\n",
              "37      37   4/7/2020   2738\n",
              "38      38   4/8/2020   2956\n",
              "39      39   4/9/2020   3293\n",
              "40      40  4/10/2020   3512\n",
              "41      41  4/11/2020   3842\n",
              "42      42  4/12/2020   4241\n",
              "43      43  4/13/2020   4557\n",
              "44      44  4/14/2020   4839\n",
              "45      45  4/15/2020   5136\n",
              "46      46  4/16/2020   5527\n",
              "47      47  4/17/2020   5923\n",
              "48      48  4/18/2020   6248\n",
              "49      49  4/19/2020   6575\n",
              "50      50  4/20/2020   6760\n",
              "51      51  4/21/2020   7135\n",
              "52      52  4/22/2020   7418\n",
              "53      53  4/23/2020   7775\n",
              "54      54  4/24/2020   8211\n",
              "55      55  4/25/2020   8607\n",
              "56      56  4/26/2020   8882\n",
              "57      57  4/27/2020   9096\n",
              "58      58  4/28/2020   9511\n",
              "59      59  4/29/2020   9971"
            ]
          },
          "metadata": {
            "tags": []
          },
          "execution_count": 6
        }
      ]
    },
    {
      "cell_type": "code",
      "metadata": {
        "colab": {
          "base_uri": "https://localhost:8080/"
        },
        "id": "hveue7N5bc6v",
        "outputId": "72384f5d-54c7-404a-c3d8-05526fb5c37c"
      },
      "source": [
        "df.info()"
      ],
      "execution_count": 7,
      "outputs": [
        {
          "output_type": "stream",
          "text": [
            "<class 'pandas.core.frame.DataFrame'>\n",
            "RangeIndex: 60 entries, 0 to 59\n",
            "Data columns (total 3 columns):\n",
            " #   Column   Non-Null Count  Dtype \n",
            "---  ------   --------------  ----- \n",
            " 0   indeks   60 non-null     int64 \n",
            " 1   tanggal  60 non-null     object\n",
            " 2   kasus    60 non-null     int64 \n",
            "dtypes: int64(2), object(1)\n",
            "memory usage: 1.5+ KB\n"
          ],
          "name": "stdout"
        }
      ]
    },
    {
      "cell_type": "markdown",
      "metadata": {
        "id": "DiKb83DhedV2"
      },
      "source": [
        "# Visualisai Data"
      ]
    },
    {
      "cell_type": "markdown",
      "metadata": {
        "id": "rUoTJ6-yd_Rf"
      },
      "source": [
        "## Distribusi usia orang dengan penyakit yang dikonfirmasi"
      ]
    },
    {
      "cell_type": "code",
      "metadata": {
        "colab": {
          "base_uri": "https://localhost:8080/",
          "height": 421
        },
        "id": "LFEkZDTWbfRX",
        "outputId": "8ebcf412-8a21-4c71-d755-5cb990ab75e6"
      },
      "source": [
        "patient = pd.read_csv(\"../content/drive/My Drive/Colab Notebooks/patient.csv\")\n",
        "plt.figure(figsize=(10,6))\n",
        "sns.set_style(\"darkgrid\")\n",
        "plt.title(\"Distribusi usia orang dengan penyakit yang dikonfirmasi\")\n",
        "sns.kdeplot(data=patient['age'], shade=True)"
      ],
      "execution_count": 12,
      "outputs": [
        {
          "output_type": "execute_result",
          "data": {
            "text/plain": [
              "<matplotlib.axes._subplots.AxesSubplot at 0x7f8191949f90>"
            ]
          },
          "metadata": {
            "tags": []
          },
          "execution_count": 12
        },
        {
          "output_type": "display_data",
          "data": {
            "image/png": "[encoded data removed]",
            "text/plain": [
              "<Figure size 720x432 with 1 Axes>"
            ]
          },
          "metadata": {
            "tags": []
          }
        }
      ]
    },
    {
      "cell_type": "code",
      "metadata": {
        "colab": {
          "base_uri": "https://localhost:8080/",
          "height": 204
        },
        "id": "oEsS888jb8OP",
        "outputId": "2da95f50-bbae-4607-90bd-7d9632bb2e15"
      },
      "source": [
        "patient.head()"
      ],
      "execution_count": 13,
      "outputs": [
        {
          "output_type": "execute_result",
          "data": {
            "text/html": [
              "<div>\n",
              "<style scoped>\n",
              "    .dataframe tbody tr th:only-of-type {\n",
              "        vertical-align: middle;\n",
              "    }\n",
              "\n",
              "    .dataframe tbody tr th {\n",
              "        vertical-align: top;\n",
              "    }\n",
              "\n",
              "    .dataframe thead th {\n",
              "        text-align: right;\n",
              "    }\n",
              "</style>\n",
              "<table border=\"1\" class=\"dataframe\">\n",
              "  <thead>\n",
              "    <tr style=\"text-align: right;\">\n",
              "      <th></th>\n",
              "      <th>patient_id</th>\n",
              "      <th>gender</th>\n",
              "      <th>age</th>\n",
              "      <th>nationality</th>\n",
              "      <th>province</th>\n",
              "      <th>current_state</th>\n",
              "      <th>contacted_with</th>\n",
              "      <th>confirmed_date</th>\n",
              "      <th>released_date</th>\n",
              "      <th>deceased_date</th>\n",
              "      <th>hospital</th>\n",
              "    </tr>\n",
              "  </thead>\n",
              "  <tbody>\n",
              "    <tr>\n",
              "      <th>0</th>\n",
              "      <td>1</td>\n",
              "      <td>female</td>\n",
              "      <td>31.0</td>\n",
              "      <td>indonesia</td>\n",
              "      <td>DKI Jakarta</td>\n",
              "      <td>released</td>\n",
              "      <td>NaN</td>\n",
              "      <td>2-Mar-20</td>\n",
              "      <td>13-Mar-20</td>\n",
              "      <td>NaN</td>\n",
              "      <td>RSPI Sulianti Saroso</td>\n",
              "    </tr>\n",
              "    <tr>\n",
              "      <th>1</th>\n",
              "      <td>2</td>\n",
              "      <td>female</td>\n",
              "      <td>64.0</td>\n",
              "      <td>indonesia</td>\n",
              "      <td>DKI Jakarta</td>\n",
              "      <td>released</td>\n",
              "      <td>1.0</td>\n",
              "      <td>2-Mar-20</td>\n",
              "      <td>16-Mar-20</td>\n",
              "      <td>NaN</td>\n",
              "      <td>RSPI Sulianti Saroso</td>\n",
              "    </tr>\n",
              "    <tr>\n",
              "      <th>2</th>\n",
              "      <td>3</td>\n",
              "      <td>female</td>\n",
              "      <td>33.0</td>\n",
              "      <td>indonesia</td>\n",
              "      <td>DKI Jakarta</td>\n",
              "      <td>released</td>\n",
              "      <td>1.0</td>\n",
              "      <td>6-Mar-20</td>\n",
              "      <td>13-Mar-20</td>\n",
              "      <td>NaN</td>\n",
              "      <td>RSPI Sulianti Saroso</td>\n",
              "    </tr>\n",
              "    <tr>\n",
              "      <th>3</th>\n",
              "      <td>4</td>\n",
              "      <td>female</td>\n",
              "      <td>34.0</td>\n",
              "      <td>indonesia</td>\n",
              "      <td>DKI Jakarta</td>\n",
              "      <td>isolated</td>\n",
              "      <td>1.0</td>\n",
              "      <td>6-Mar-20</td>\n",
              "      <td>NaN</td>\n",
              "      <td>NaN</td>\n",
              "      <td>RSPI Sulianti Saroso</td>\n",
              "    </tr>\n",
              "    <tr>\n",
              "      <th>4</th>\n",
              "      <td>5</td>\n",
              "      <td>male</td>\n",
              "      <td>55.0</td>\n",
              "      <td>indonesia</td>\n",
              "      <td>DKI Jakarta</td>\n",
              "      <td>isolated</td>\n",
              "      <td>1.0</td>\n",
              "      <td>8-Mar-20</td>\n",
              "      <td>NaN</td>\n",
              "      <td>NaN</td>\n",
              "      <td>RS Persahabatan</td>\n",
              "    </tr>\n",
              "  </tbody>\n",
              "</table>\n",
              "</div>"
            ],
            "text/plain": [
              "   patient_id  gender   age  ... released_date deceased_date              hospital\n",
              "0           1  female  31.0  ...     13-Mar-20           NaN  RSPI Sulianti Saroso\n",
              "1           2  female  64.0  ...     16-Mar-20           NaN  RSPI Sulianti Saroso\n",
              "2           3  female  33.0  ...     13-Mar-20           NaN  RSPI Sulianti Saroso\n",
              "3           4  female  34.0  ...           NaN           NaN  RSPI Sulianti Saroso\n",
              "4           5    male  55.0  ...           NaN           NaN       RS Persahabatan\n",
              "\n",
              "[5 rows x 11 columns]"
            ]
          },
          "metadata": {
            "tags": []
          },
          "execution_count": 13
        }
      ]
    },
    {
      "cell_type": "code",
      "metadata": {
        "colab": {
          "base_uri": "https://localhost:8080/",
          "height": 394
        },
        "id": "FjWaw8n3b-YW",
        "outputId": "dc20df8e-f320-43de-e1dd-1d05bdae3db6"
      },
      "source": [
        "cases = pd.read_csv(\"../content/drive/My Drive/Colab Notebooks/cases.csv\")\n",
        "cases.tail()"
      ],
      "execution_count": 14,
      "outputs": [
        {
          "output_type": "execute_result",
          "data": {
            "text/html": [
              "<div>\n",
              "<style scoped>\n",
              "    .dataframe tbody tr th:only-of-type {\n",
              "        vertical-align: middle;\n",
              "    }\n",
              "\n",
              "    .dataframe tbody tr th {\n",
              "        vertical-align: top;\n",
              "    }\n",
              "\n",
              "    .dataframe thead th {\n",
              "        text-align: right;\n",
              "    }\n",
              "</style>\n",
              "<table border=\"1\" class=\"dataframe\">\n",
              "  <thead>\n",
              "    <tr style=\"text-align: right;\">\n",
              "      <th></th>\n",
              "      <th>date</th>\n",
              "      <th>new_tested</th>\n",
              "      <th>acc_tested</th>\n",
              "      <th>new_confirmed</th>\n",
              "      <th>acc_confirmed</th>\n",
              "      <th>acc_negative</th>\n",
              "      <th>being_checked</th>\n",
              "      <th>isolated</th>\n",
              "      <th>new_released</th>\n",
              "      <th>acc_released</th>\n",
              "      <th>new_deceased</th>\n",
              "      <th>acc_deceased</th>\n",
              "      <th>positive_rate</th>\n",
              "      <th>negative_rate</th>\n",
              "      <th>decease_rate</th>\n",
              "      <th>release_rate</th>\n",
              "      <th>dailypositive_rate</th>\n",
              "    </tr>\n",
              "  </thead>\n",
              "  <tbody>\n",
              "    <tr>\n",
              "      <th>25</th>\n",
              "      <td>27-Mar-20</td>\n",
              "      <td>1439.0</td>\n",
              "      <td>5775</td>\n",
              "      <td>153</td>\n",
              "      <td>1046</td>\n",
              "      <td>4729</td>\n",
              "      <td>0</td>\n",
              "      <td>913</td>\n",
              "      <td>11</td>\n",
              "      <td>46</td>\n",
              "      <td>9</td>\n",
              "      <td>87</td>\n",
              "      <td>18.11%</td>\n",
              "      <td>81.89%</td>\n",
              "      <td>8.32%</td>\n",
              "      <td>4.40%</td>\n",
              "      <td>10.63%</td>\n",
              "    </tr>\n",
              "    <tr>\n",
              "      <th>26</th>\n",
              "      <td>28-Mar-20</td>\n",
              "      <td>491.0</td>\n",
              "      <td>6266</td>\n",
              "      <td>109</td>\n",
              "      <td>1155</td>\n",
              "      <td>5111</td>\n",
              "      <td>0</td>\n",
              "      <td>994</td>\n",
              "      <td>13</td>\n",
              "      <td>59</td>\n",
              "      <td>15</td>\n",
              "      <td>102</td>\n",
              "      <td>18.43%</td>\n",
              "      <td>81.57%</td>\n",
              "      <td>8.83%</td>\n",
              "      <td>5.11%</td>\n",
              "      <td>22.20%</td>\n",
              "    </tr>\n",
              "    <tr>\n",
              "      <th>27</th>\n",
              "      <td>29-Mar-20</td>\n",
              "      <td>268.0</td>\n",
              "      <td>6534</td>\n",
              "      <td>130</td>\n",
              "      <td>1285</td>\n",
              "      <td>5249</td>\n",
              "      <td>0</td>\n",
              "      <td>1107</td>\n",
              "      <td>5</td>\n",
              "      <td>64</td>\n",
              "      <td>12</td>\n",
              "      <td>114</td>\n",
              "      <td>19.67%</td>\n",
              "      <td>80.33%</td>\n",
              "      <td>8.87%</td>\n",
              "      <td>4.98%</td>\n",
              "      <td>48.51%</td>\n",
              "    </tr>\n",
              "    <tr>\n",
              "      <th>28</th>\n",
              "      <td>30-Mar-20</td>\n",
              "      <td>129.0</td>\n",
              "      <td>6663</td>\n",
              "      <td>129</td>\n",
              "      <td>1414</td>\n",
              "      <td>5249</td>\n",
              "      <td>0</td>\n",
              "      <td>1217</td>\n",
              "      <td>11</td>\n",
              "      <td>75</td>\n",
              "      <td>8</td>\n",
              "      <td>122</td>\n",
              "      <td>21.22%</td>\n",
              "      <td>78.78%</td>\n",
              "      <td>8.63%</td>\n",
              "      <td>5.30%</td>\n",
              "      <td>100.00%</td>\n",
              "    </tr>\n",
              "    <tr>\n",
              "      <th>29</th>\n",
              "      <td>31-Mar-20</td>\n",
              "      <td>114.0</td>\n",
              "      <td>6777</td>\n",
              "      <td>114</td>\n",
              "      <td>1528</td>\n",
              "      <td>5249</td>\n",
              "      <td>0</td>\n",
              "      <td>1311</td>\n",
              "      <td>6</td>\n",
              "      <td>81</td>\n",
              "      <td>14</td>\n",
              "      <td>136</td>\n",
              "      <td>22.55%</td>\n",
              "      <td>77.45%</td>\n",
              "      <td>8.90%</td>\n",
              "      <td>5.30%</td>\n",
              "      <td>100.00%</td>\n",
              "    </tr>\n",
              "  </tbody>\n",
              "</table>\n",
              "</div>"
            ],
            "text/plain": [
              "         date  new_tested  ...  release_rate  dailypositive_rate\n",
              "25  27-Mar-20      1439.0  ...         4.40%              10.63%\n",
              "26  28-Mar-20       491.0  ...         5.11%              22.20%\n",
              "27  29-Mar-20       268.0  ...         4.98%              48.51%\n",
              "28  30-Mar-20       129.0  ...         5.30%             100.00%\n",
              "29  31-Mar-20       114.0  ...         5.30%             100.00%\n",
              "\n",
              "[5 rows x 17 columns]"
            ]
          },
          "metadata": {
            "tags": []
          },
          "execution_count": 14
        }
      ]
    },
    {
      "cell_type": "markdown",
      "metadata": {
        "id": "Zn9altJOeFwY"
      },
      "source": [
        "## Distribusi status berdasarkan usia dan jenis kelamin"
      ]
    },
    {
      "cell_type": "code",
      "metadata": {
        "colab": {
          "base_uri": "https://localhost:8080/",
          "height": 779
        },
        "id": "kJKo3nFQcFee",
        "outputId": "d70dba1d-d9c2-4b6c-c735-e1c1faef7c08"
      },
      "source": [
        "sns.set_style(\"whitegrid\")\n",
        "sns.FacetGrid(patient, hue='gender', size = 10)\\\n",
        ".map(plt.scatter, 'current_state', 'age')\\\n",
        ".add_legend()\n",
        "plt.title('Distribusi status berdasarkan usia dan jenis kelamin')\n",
        "plt.show()"
      ],
      "execution_count": 15,
      "outputs": [
        {
          "output_type": "stream",
          "text": [
            "/usr/local/lib/python3.7/dist-packages/seaborn/axisgrid.py:316: UserWarning: The `size` parameter has been renamed to `height`; please update your code.\n",
            "  warnings.warn(msg, UserWarning)\n"
          ],
          "name": "stderr"
        },
        {
          "output_type": "display_data",
          "data": {
            "image/png": "[encoded data removed]",
            "text/plain": [
              "<Figure size 790.5x720 with 1 Axes>"
            ]
          },
          "metadata": {
            "tags": []
          }
        }
      ]
    },
    {
      "cell_type": "markdown",
      "metadata": {
        "id": "xTScrFM6eOTf"
      },
      "source": [
        "## Jumlah pasien di setiap provinsi"
      ]
    },
    {
      "cell_type": "code",
      "metadata": {
        "colab": {
          "base_uri": "https://localhost:8080/",
          "height": 413
        },
        "id": "DvT2EHZNcL-_",
        "outputId": "03ef9e70-6784-4bb8-8a0b-ad5876b3c649"
      },
      "source": [
        "plt.figure(figsize=(15,5))\n",
        "plt.title('Jumlah pasien di setiap provinsi')\n",
        "patient.province.value_counts().plot.bar();"
      ],
      "execution_count": 16,
      "outputs": [
        {
          "output_type": "display_data",
          "data": {
            "image/png": "[encoded data removed]",
            "text/plain": [
              "<Figure size 1080x360 with 1 Axes>"
            ]
          },
          "metadata": {
            "tags": []
          }
        }
      ]
    },
    {
      "cell_type": "code",
      "metadata": {
        "colab": {
          "base_uri": "https://localhost:8080/",
          "height": 542
        },
        "id": "XNXqI9jFcQfu",
        "outputId": "cc666332-90d8-46fe-f0fa-59fc313a75af"
      },
      "source": [
        "import plotly.express as px\n",
        "import plotly.offline as py\n",
        "from plotly.offline import download_plotlyjs, init_notebook_mode, plot, iplot\n",
        "\n",
        "fig = px.pie( values=patient.groupby(['province']).size().values,names=patient.groupby(['province']).size().index)\n",
        "fig.update_layout(\n",
        "    font=dict(\n",
        "        size=15,\n",
        "        color=\"#242323\"\n",
        "    )\n",
        "    )   \n",
        "    \n",
        "py.iplot(fig)"
      ],
      "execution_count": 17,
      "outputs": [
        {
          "output_type": "display_data",
          "data": {
            "text/html": [
              "<html>\n",
              "<head><meta charset=\"utf-8\" /></head>\n",
              "<body>\n",
              "    <div>\n",
              "            <script src=\"https://cdnjs.cloudflare.com/ajax/libs/mathjax/2.7.5/MathJax.js?config=TeX-AMS-MML_SVG\"></script><script type=\"text/javascript\">if (window.MathJax) {MathJax.Hub.Config({SVG: {font: \"STIX-Web\"}});}</script>\n",
              "                <script type=\"text/javascript\">window.PlotlyConfig = {MathJaxConfig: 'local'};</script>\n",
              "        <script src=\"https://cdn.plot.ly/plotly-latest.min.js\"></script>    \n",
              "            <div id=\"d3371586-3c9d-44ef-b386-c74d2bf742e0\" class=\"plotly-graph-div\" style=\"height:525px; width:100%;\"></div>\n",
              "            <script type=\"text/javascript\">\n",
              "                \n",
              "                    window.PLOTLYENV=window.PLOTLYENV || {};\n",
              "                    \n",
              "                if (document.getElementById(\"d3371586-3c9d-44ef-b386-c74d2bf742e0\")) {\n",
              "                    Plotly.newPlot(\n",
              "                        'd3371586-3c9d-44ef-b386-c74d2bf742e0',\n",
              "                        [{\"domain\": {\"x\": [0.0, 1.0], \"y\": [0.0, 1.0]}, \"hoverlabel\": {\"namelength\": 0}, \"hovertemplate\": \"label=%{label}<br>value=%{value}\", \"labels\": [\"Bali\", \"Banten\", \"DI Yogyakarta\", \"DKI Jakarta\", \"Jawa Barat\", \"Jawa Tengah\", \"Jawa Timur\", \"Kalimantan Barat\", \"Kepulauan Riau\", \"Sulawesi Utara\"], \"legendgroup\": \"\", \"name\": \"\", \"showlegend\": true, \"type\": \"pie\", \"values\": [1, 6, 1, 124, 9, 4, 7, 2, 1, 1]}],\n",
              "                        {\"font\": {\"color\": \"#242323\", \"size\": 15}, \"legend\": {\"tracegroupgap\": 0}, \"margin\": {\"t\": 60}, \"template\": {\"data\": {\"bar\": [{\"error_x\": {\"color\": \"#2a3f5f\"}, \"error_y\": {\"color\": \"#2a3f5f\"}, \"marker\": {\"line\": {\"color\": \"#E5ECF6\", \"width\": 0.5}}, \"type\": \"bar\"}], \"barpolar\": [{\"marker\": {\"line\": {\"color\": \"#E5ECF6\", \"width\": 0.5}}, \"type\": \"barpolar\"}], \"carpet\": [{\"aaxis\": {\"endlinecolor\": \"#2a3f5f\", \"gridcolor\": \"white\", \"linecolor\": \"white\", \"minorgridcolor\": \"white\", \"startlinecolor\": \"#2a3f5f\"}, \"baxis\": {\"endlinecolor\": \"#2a3f5f\", \"gridcolor\": \"white\", \"linecolor\": \"white\", \"minorgridcolor\": \"white\", \"startlinecolor\": \"#2a3f5f\"}, \"type\": \"carpet\"}], \"choropleth\": [{\"colorbar\": {\"outlinewidth\": 0, \"ticks\": \"\"}, \"type\": \"choropleth\"}], \"contour\": [{\"colorbar\": {\"outlinewidth\": 0, \"ticks\": \"\"}, \"colorscale\": [[0.0, \"#0d0887\"], [0.1111111111111111, \"#46039f\"], [0.2222222222222222, \"#7201a8\"], [0.3333333333333333, \"#9c179e\"], [0.4444444444444444, \"#bd3786\"], [0.5555555555555556, \"#d8576b\"], [0.6666666666666666, \"#ed7953\"], [0.7777777777777778, \"#fb9f3a\"], [0.8888888888888888, \"#fdca26\"], [1.0, \"#f0f921\"]], \"type\": \"contour\"}], \"contourcarpet\": [{\"colorbar\": {\"outlinewidth\": 0, \"ticks\": \"\"}, \"type\": \"contourcarpet\"}], \"heatmap\": [{\"colorbar\": {\"outlinewidth\": 0, \"ticks\": \"\"}, \"colorscale\": [[0.0, \"#0d0887\"], [0.1111111111111111, \"#46039f\"], [0.2222222222222222, \"#7201a8\"], [0.3333333333333333, \"#9c179e\"], [0.4444444444444444, \"#bd3786\"], [0.5555555555555556, \"#d8576b\"], [0.6666666666666666, \"#ed7953\"], [0.7777777777777778, \"#fb9f3a\"], [0.8888888888888888, \"#fdca26\"], [1.0, \"#f0f921\"]], \"type\": \"heatmap\"}], \"heatmapgl\": [{\"colorbar\": {\"outlinewidth\": 0, \"ticks\": \"\"}, \"colorscale\": [[0.0, \"#0d0887\"], [0.1111111111111111, \"#46039f\"], [0.2222222222222222, \"#7201a8\"], [0.3333333333333333, \"#9c179e\"], [0.4444444444444444, \"#bd3786\"], [0.5555555555555556, \"#d8576b\"], [0.6666666666666666, \"#ed7953\"], [0.7777777777777778, \"#fb9f3a\"], [0.8888888888888888, \"#fdca26\"], [1.0, \"#f0f921\"]], \"type\": \"heatmapgl\"}], \"histogram\": [{\"marker\": {\"colorbar\": {\"outlinewidth\": 0, \"ticks\": \"\"}}, \"type\": \"histogram\"}], \"histogram2d\": [{\"colorbar\": {\"outlinewidth\": 0, \"ticks\": \"\"}, \"colorscale\": [[0.0, \"#0d0887\"], [0.1111111111111111, \"#46039f\"], [0.2222222222222222, \"#7201a8\"], [0.3333333333333333, \"#9c179e\"], [0.4444444444444444, \"#bd3786\"], [0.5555555555555556, \"#d8576b\"], [0.6666666666666666, \"#ed7953\"], [0.7777777777777778, \"#fb9f3a\"], [0.8888888888888888, \"#fdca26\"], [1.0, \"#f0f921\"]], \"type\": \"histogram2d\"}], \"histogram2dcontour\": [{\"colorbar\": {\"outlinewidth\": 0, \"ticks\": \"\"}, \"colorscale\": [[0.0, \"#0d0887\"], [0.1111111111111111, \"#46039f\"], [0.2222222222222222, \"#7201a8\"], [0.3333333333333333, \"#9c179e\"], [0.4444444444444444, \"#bd3786\"], [0.5555555555555556, \"#d8576b\"], [0.6666666666666666, \"#ed7953\"], [0.7777777777777778, \"#fb9f3a\"], [0.8888888888888888, \"#fdca26\"], [1.0, \"#f0f921\"]], \"type\": \"histogram2dcontour\"}], \"mesh3d\": [{\"colorbar\": {\"outlinewidth\": 0, \"ticks\": \"\"}, \"type\": \"mesh3d\"}], \"parcoords\": [{\"line\": {\"colorbar\": {\"outlinewidth\": 0, \"ticks\": \"\"}}, \"type\": \"parcoords\"}], \"pie\": [{\"automargin\": true, \"type\": \"pie\"}], \"scatter\": [{\"marker\": {\"colorbar\": {\"outlinewidth\": 0, \"ticks\": \"\"}}, \"type\": \"scatter\"}], \"scatter3d\": [{\"line\": {\"colorbar\": {\"outlinewidth\": 0, \"ticks\": \"\"}}, \"marker\": {\"colorbar\": {\"outlinewidth\": 0, \"ticks\": \"\"}}, \"type\": \"scatter3d\"}], \"scattercarpet\": [{\"marker\": {\"colorbar\": {\"outlinewidth\": 0, \"ticks\": \"\"}}, \"type\": \"scattercarpet\"}], \"scattergeo\": [{\"marker\": {\"colorbar\": {\"outlinewidth\": 0, \"ticks\": \"\"}}, \"type\": \"scattergeo\"}], \"scattergl\": [{\"marker\": {\"colorbar\": {\"outlinewidth\": 0, \"ticks\": \"\"}}, \"type\": \"scattergl\"}], \"scattermapbox\": [{\"marker\": {\"colorbar\": {\"outlinewidth\": 0, \"ticks\": \"\"}}, \"type\": \"scattermapbox\"}], \"scatterpolar\": [{\"marker\": {\"colorbar\": {\"outlinewidth\": 0, \"ticks\": \"\"}}, \"type\": \"scatterpolar\"}], \"scatterpolargl\": [{\"marker\": {\"colorbar\": {\"outlinewidth\": 0, \"ticks\": \"\"}}, \"type\": \"scatterpolargl\"}], \"scatterternary\": [{\"marker\": {\"colorbar\": {\"outlinewidth\": 0, \"ticks\": \"\"}}, \"type\": \"scatterternary\"}], \"surface\": [{\"colorbar\": {\"outlinewidth\": 0, \"ticks\": \"\"}, \"colorscale\": [[0.0, \"#0d0887\"], [0.1111111111111111, \"#46039f\"], [0.2222222222222222, \"#7201a8\"], [0.3333333333333333, \"#9c179e\"], [0.4444444444444444, \"#bd3786\"], [0.5555555555555556, \"#d8576b\"], [0.6666666666666666, \"#ed7953\"], [0.7777777777777778, \"#fb9f3a\"], [0.8888888888888888, \"#fdca26\"], [1.0, \"#f0f921\"]], \"type\": \"surface\"}], \"table\": [{\"cells\": {\"fill\": {\"color\": \"#EBF0F8\"}, \"line\": {\"color\": \"white\"}}, \"header\": {\"fill\": {\"color\": \"#C8D4E3\"}, \"line\": {\"color\": \"white\"}}, \"type\": \"table\"}]}, \"layout\": {\"annotationdefaults\": {\"arrowcolor\": \"#2a3f5f\", \"arrowhead\": 0, \"arrowwidth\": 1}, \"coloraxis\": {\"colorbar\": {\"outlinewidth\": 0, \"ticks\": \"\"}}, \"colorscale\": {\"diverging\": [[0, \"#8e0152\"], [0.1, \"#c51b7d\"], [0.2, \"#de77ae\"], [0.3, \"#f1b6da\"], [0.4, \"#fde0ef\"], [0.5, \"#f7f7f7\"], [0.6, \"#e6f5d0\"], [0.7, \"#b8e186\"], [0.8, \"#7fbc41\"], [0.9, \"#4d9221\"], [1, \"#276419\"]], \"sequential\": [[0.0, \"#0d0887\"], [0.1111111111111111, \"#46039f\"], [0.2222222222222222, \"#7201a8\"], [0.3333333333333333, \"#9c179e\"], [0.4444444444444444, \"#bd3786\"], [0.5555555555555556, \"#d8576b\"], [0.6666666666666666, \"#ed7953\"], [0.7777777777777778, \"#fb9f3a\"], [0.8888888888888888, \"#fdca26\"], [1.0, \"#f0f921\"]], \"sequentialminus\": [[0.0, \"#0d0887\"], [0.1111111111111111, \"#46039f\"], [0.2222222222222222, \"#7201a8\"], [0.3333333333333333, \"#9c179e\"], [0.4444444444444444, \"#bd3786\"], [0.5555555555555556, \"#d8576b\"], [0.6666666666666666, \"#ed7953\"], [0.7777777777777778, \"#fb9f3a\"], [0.8888888888888888, \"#fdca26\"], [1.0, \"#f0f921\"]]}, \"colorway\": [\"#636efa\", \"#EF553B\", \"#00cc96\", \"#ab63fa\", \"#FFA15A\", \"#19d3f3\", \"#FF6692\", \"#B6E880\", \"#FF97FF\", \"#FECB52\"], \"font\": {\"color\": \"#2a3f5f\"}, \"geo\": {\"bgcolor\": \"white\", \"lakecolor\": \"white\", \"landcolor\": \"#E5ECF6\", \"showlakes\": true, \"showland\": true, \"subunitcolor\": \"white\"}, \"hoverlabel\": {\"align\": \"left\"}, \"hovermode\": \"closest\", \"mapbox\": {\"style\": \"light\"}, \"paper_bgcolor\": \"white\", \"plot_bgcolor\": \"#E5ECF6\", \"polar\": {\"angularaxis\": {\"gridcolor\": \"white\", \"linecolor\": \"white\", \"ticks\": \"\"}, \"bgcolor\": \"#E5ECF6\", \"radialaxis\": {\"gridcolor\": \"white\", \"linecolor\": \"white\", \"ticks\": \"\"}}, \"scene\": {\"xaxis\": {\"backgroundcolor\": \"#E5ECF6\", \"gridcolor\": \"white\", \"gridwidth\": 2, \"linecolor\": \"white\", \"showbackground\": true, \"ticks\": \"\", \"zerolinecolor\": \"white\"}, \"yaxis\": {\"backgroundcolor\": \"#E5ECF6\", \"gridcolor\": \"white\", \"gridwidth\": 2, \"linecolor\": \"white\", \"showbackground\": true, \"ticks\": \"\", \"zerolinecolor\": \"white\"}, \"zaxis\": {\"backgroundcolor\": \"#E5ECF6\", \"gridcolor\": \"white\", \"gridwidth\": 2, \"linecolor\": \"white\", \"showbackground\": true, \"ticks\": \"\", \"zerolinecolor\": \"white\"}}, \"shapedefaults\": {\"line\": {\"color\": \"#2a3f5f\"}}, \"ternary\": {\"aaxis\": {\"gridcolor\": \"white\", \"linecolor\": \"white\", \"ticks\": \"\"}, \"baxis\": {\"gridcolor\": \"white\", \"linecolor\": \"white\", \"ticks\": \"\"}, \"bgcolor\": \"#E5ECF6\", \"caxis\": {\"gridcolor\": \"white\", \"linecolor\": \"white\", \"ticks\": \"\"}}, \"title\": {\"x\": 0.05}, \"xaxis\": {\"automargin\": true, \"gridcolor\": \"white\", \"linecolor\": \"white\", \"ticks\": \"\", \"title\": {\"standoff\": 15}, \"zerolinecolor\": \"white\", \"zerolinewidth\": 2}, \"yaxis\": {\"automargin\": true, \"gridcolor\": \"white\", \"linecolor\": \"white\", \"ticks\": \"\", \"title\": {\"standoff\": 15}, \"zerolinecolor\": \"white\", \"zerolinewidth\": 2}}}},\n",
              "                        {\"responsive\": true}\n",
              "                    ).then(function(){\n",
              "                            \n",
              "var gd = document.getElementById('d3371586-3c9d-44ef-b386-c74d2bf742e0');\n",
              "var x = new MutationObserver(function (mutations, observer) {{\n",
              "        var display = window.getComputedStyle(gd).display;\n",
              "        if (!display || display === 'none') {{\n",
              "            console.log([gd, 'removed!']);\n",
              "            Plotly.purge(gd);\n",
              "            observer.disconnect();\n",
              "        }}\n",
              "}});\n",
              "\n",
              "// Listen for the removal of the full notebook cells\n",
              "var notebookContainer = gd.closest('#notebook-container');\n",
              "if (notebookContainer) {{\n",
              "    x.observe(notebookContainer, {childList: true});\n",
              "}}\n",
              "\n",
              "// Listen for the clearing of the current output cell\n",
              "var outputEl = gd.closest('.output');\n",
              "if (outputEl) {{\n",
              "    x.observe(outputEl, {childList: true});\n",
              "}}\n",
              "\n",
              "                        })\n",
              "                };\n",
              "                \n",
              "            </script>\n",
              "        </div>\n",
              "</body>\n",
              "</html>"
            ]
          },
          "metadata": {
            "tags": []
          }
        }
      ]
    },
    {
      "cell_type": "markdown",
      "metadata": {
        "id": "UzciFeDueTO-"
      },
      "source": [
        "## Jumlah Pasien di Setiap Rumah Sakit"
      ]
    },
    {
      "cell_type": "code",
      "metadata": {
        "colab": {
          "base_uri": "https://localhost:8080/",
          "height": 425
        },
        "id": "f67quWgGcUBG",
        "outputId": "5f25891b-e692-406b-ec39-655b708c2ae5"
      },
      "source": [
        "plt.figure(figsize=(15,5))\n",
        "plt.title('Jumlah Pasien di Setiap Rumah Sakit')\n",
        "patient.hospital.value_counts().plot.bar();"
      ],
      "execution_count": 18,
      "outputs": [
        {
          "output_type": "display_data",
          "data": {
            "image/png": "[encoded data removed]",
            "text/plain": [
              "<Figure size 1080x360 with 1 Axes>"
            ]
          },
          "metadata": {
            "tags": []
          }
        }
      ]
    },
    {
      "cell_type": "markdown",
      "metadata": {
        "id": "ZHE54831cdJw"
      },
      "source": [
        "# Polinomial Regresi"
      ]
    },
    {
      "cell_type": "code",
      "metadata": {
        "id": "HI594CIfcgz_"
      },
      "source": [
        "degree = 2\n",
        "\n",
        "x = df['indeks'].values.reshape(df['indeks'].size,1)\n",
        "y = df['kasus'].values.reshape(df['kasus'].size,1)\n",
        "polynomial_features= PolynomialFeatures(degree=degree)\n",
        "x_poly = polynomial_features.fit_transform(x)\n",
        "\n",
        "model = LinearRegression()\n",
        "model.fit(x_poly, y)\n",
        "y_poly_pred = model.predict(x_poly)\n",
        "\n",
        "rmse = sqrt(mean_squared_error(y,y_poly_pred))\n",
        "r2 = r2_score(y,y_poly_pred)\n"
      ],
      "execution_count": 20,
      "outputs": []
    },
    {
      "cell_type": "code",
      "metadata": {
        "id": "ge_iPVq8ck7X"
      },
      "source": [
        "def forecast_days_after(n_days_after):\n",
        "    # Mengembalikan prediksi model regresi polinomial\n",
        "    model_pred = model.predict(polynomial_features.fit_transform([[n_days_after]]))\n",
        "    return '{:d}'.format(int(round(model_pred[0][0])))\n",
        "\n",
        "start_date = to_datetime(df['tanggal'].iloc[0], format='%m/%d/%Y')\n",
        "last_date = to_datetime(df['tanggal'].iloc[-1], format='%m/%d/%Y')\n",
        "\n",
        "def display_forecast_days_after(n_days_after):\n",
        "    # Mengembalikan prediksi model regresi polinomial\n",
        "    end_date = start_date + timedelta(days=n_days_after)\n",
        "    model_pred = model.predict(polynomial_features.fit_transform([[n_days_after]]))\n",
        "    return end_date.strftime(\"%d %B %Y\"), '{:d}'.format(int(round(model_pred[0][0])))\n",
        "\n",
        "def days_passed_timedelta():\n",
        "    # Mengembalikan hasil dari objek timedelta\n",
        "    # berapa hari telah berlalu sejak tanggal mulai (start_date)\n",
        "    last_date = to_datetime(df['tanggal'].iloc[-1], format='%m/%d/%Y')\n",
        "    return last_date.date() - start_date.date() \n",
        "\n",
        "def date_days_after(n_days_after, date_format=\"%d %B %Y\", **kwargs):\n",
        "    tanggal = start_date + timedelta(days=n_days_after)\n",
        "    return tanggal.date().strftime(date_format)\n",
        "\n",
        "def display_tabel_prediksi(days_after):\n",
        "    # tabel prediksi\n",
        "    days_passed = days_passed_timedelta().days\n",
        "    tabel_prediksi = PrettyTable(['ke-', 'tanggal','prediksi'])\n",
        "    for x in range(days_passed+1,days_after+1):\n",
        "        tabel_prediksi.add_row([x, date_days_after(x, date_format=\"%d-%m-%Y\"), forecast_days_after(x)])\n",
        "    print(tabel_prediksi)\n",
        "    \n",
        "def display_tabel_realisasi(lookback):\n",
        "    # tabel prediksi\n",
        "    days_passed = days_passed_timedelta().days\n",
        "    tabel_realisasi = PrettyTable(['tanggal','pred', 'real', 'p-r'])\n",
        "    for x in range(days_passed, days_passed-lookback+1, -1):\n",
        "        pred_ = int(forecast_days_after(x))\n",
        "        real_ = y[x][0]\n",
        "        eval_ = pred_ - real_    \n",
        "        tabel_realisasi.add_row([date_days_after(x, date_format=\"%d-%m-%Y\"), pred_, real_, eval_])\n",
        "    print(tabel_realisasi)\n",
        "    \n",
        "def display_equation(model):\n",
        "    for coef in model.coef_:\n",
        "        pass\n",
        "    streq = \"$y = \" +str(model.intercept_[0])\n",
        "    for i,c in enumerate(coef):\n",
        "        j = len(coef)-i-1\n",
        "        if abs(c) > c:\n",
        "            sign = \"-\"\n",
        "        else:\n",
        "            sign = \"+\"\n",
        "        if i > 1:\n",
        "            streq += sign +str(abs(c)) + \" \\cdot x^{\"+str(i)+\"}\"\n",
        "        elif i == 1:\n",
        "            streq += sign +str(abs(c)) + \" \\cdot x\"\n",
        "\n",
        "    streq =   streq + \"$\"\n",
        "    return md(streq)\n",
        "\n",
        "def display_widget_forecast_days_after():\n",
        "    print('data hari terakhir-' + str(days_passed_timedelta().days) + \\\n",
        "          ', Gerakkan penggeser ke kanan untuk memajukan prediksi (gunakan tombol panah kanan -> pada keyboard):')\n",
        "    @interact(x=(days_passed_timedelta().days+1, 365,1))\n",
        "    def h(x=days_passed_timedelta().days+1):\n",
        "        tabel_prediksi = PrettyTable(['hari ke-x', 'tanggal','prediksi akumulasi'])\n",
        "        tabel_prediksi.add_row([x, date_days_after(x), forecast_days_after(x)])\n",
        "        print(tabel_prediksi)"
      ],
      "execution_count": 22,
      "outputs": []
    },
    {
      "cell_type": "code",
      "metadata": {
        "id": "VMiRK0v2dD4G"
      },
      "source": [
        "tabel_parameter = PrettyTable(['parameter', 'nilai'])\n",
        "tabel_parameter.add_row(['polynomial\\ndegree', degree])\n",
        "tabel_parameter.add_row(['RMSE','{:.10}'.format(rmse)])\n",
        "tabel_parameter.add_row(['R^2', '{:.10}'.format(r2)])"
      ],
      "execution_count": 23,
      "outputs": []
    },
    {
      "cell_type": "code",
      "metadata": {
        "colab": {
          "base_uri": "https://localhost:8080/",
          "height": 491
        },
        "id": "_gRusnDXdGa_",
        "outputId": "ffd1a262-8f75-41ab-8e3e-36f8dd4b5457"
      },
      "source": [
        "plt.scatter(x, y, s=10)\n",
        "sort_axis = operator.itemgetter(0)\n",
        "sorted_zip = sorted(zip(x,y_poly_pred), key=sort_axis)\n",
        "x, y_poly_pred = zip(*sorted_zip)\n",
        "plt.title('Kasus kumulatif covid19 di Indonesia\\n')\n",
        "plt.xlabel('\\nSetelah 1 Maret 2020')\n",
        "plt.ylabel('kasus positif')\n",
        "\n",
        "plt.plot(x, y_poly_pred, color='m')\n",
        "plt.show()\n",
        "print(tabel_parameter)\n",
        "display_equation(model)"
      ],
      "execution_count": 24,
      "outputs": [
        {
          "output_type": "display_data",
          "data": {
            "image/png": "[encoded data removed]",
            "text/plain": [
              "<Figure size 432x288 with 1 Axes>"
            ]
          },
          "metadata": {
            "tags": []
          }
        },
        {
          "output_type": "stream",
          "text": [
            "+------------+--------------+\n",
            "| parameter  |    nilai     |\n",
            "+------------+--------------+\n",
            "| polynomial |      2       |\n",
            "|   degree   |              |\n",
            "|    RMSE    | 144.2767888  |\n",
            "|    R^2     | 0.9978007711 |\n",
            "+------------+--------------+\n"
          ],
          "name": "stdout"
        },
        {
          "output_type": "execute_result",
          "data": {
            "text/markdown": "$y = 317.39233209942586-83.4590682246738 \\cdot x+4.211779103143527 \\cdot x^{2}$",
            "text/plain": [
              "<IPython.core.display.Markdown object>"
            ]
          },
          "metadata": {
            "tags": []
          },
          "execution_count": 24
        }
      ]
    },
    {
      "cell_type": "code",
      "metadata": {
        "colab": {
          "base_uri": "https://localhost:8080/"
        },
        "id": "Vw2Lp0cmdie2",
        "outputId": "9b7c12e8-15fd-4b97-ced9-0ef240845764"
      },
      "source": [
        "display_tabel_prediksi(60)"
      ],
      "execution_count": 25,
      "outputs": [
        {
          "output_type": "stream",
          "text": [
            "+-----+------------+----------+\n",
            "| ke- |  tanggal   | prediksi |\n",
            "+-----+------------+----------+\n",
            "|  60 | 30-04-2020 |  10472   |\n",
            "+-----+------------+----------+\n"
          ],
          "name": "stdout"
        }
      ]
    },
    {
      "cell_type": "code",
      "metadata": {
        "colab": {
          "base_uri": "https://localhost:8080/"
        },
        "id": "ZT8wymS_dkzv",
        "outputId": "91c3712b-49ff-4ea4-8279-4266a81a48f6"
      },
      "source": [
        "display_forecast_days_after(100)\n"
      ],
      "execution_count": 26,
      "outputs": [
        {
          "output_type": "execute_result",
          "data": {
            "text/plain": [
              "('09 June 2020', '34089')"
            ]
          },
          "metadata": {
            "tags": []
          },
          "execution_count": 26
        }
      ]
    },
    {
      "cell_type": "code",
      "metadata": {
        "colab": {
          "base_uri": "https://localhost:8080/"
        },
        "id": "6bDtrq7KdnWO",
        "outputId": "cb09b987-ada8-401d-fbf3-2349aa607fcb"
      },
      "source": [
        "display_tabel_realisasi(21)"
      ],
      "execution_count": 27,
      "outputs": [
        {
          "output_type": "stream",
          "text": [
            "+------------+-------+------+------+\n",
            "|  tanggal   |  pred | real | p-r  |\n",
            "+------------+-------+------+------+\n",
            "| 29-04-2020 | 10055 | 9971 |  84  |\n",
            "| 28-04-2020 |  9645 | 9511 | 134  |\n",
            "| 27-04-2020 |  9244 | 9096 | 148  |\n",
            "| 26-04-2020 |  8852 | 8882 | -30  |\n",
            "| 25-04-2020 |  8468 | 8607 | -139 |\n",
            "| 24-04-2020 |  8092 | 8211 | -119 |\n",
            "| 23-04-2020 |  7725 | 7775 | -50  |\n",
            "| 22-04-2020 |  7366 | 7418 | -52  |\n",
            "| 21-04-2020 |  7016 | 7135 | -119 |\n",
            "| 20-04-2020 |  6674 | 6760 | -86  |\n",
            "| 19-04-2020 |  6340 | 6575 | -235 |\n",
            "| 18-04-2020 |  6015 | 6248 | -233 |\n",
            "| 17-04-2020 |  5699 | 5923 | -224 |\n",
            "| 16-04-2020 |  5390 | 5527 | -137 |\n",
            "| 15-04-2020 |  5091 | 5136 | -45  |\n",
            "| 14-04-2020 |  4799 | 4839 | -40  |\n",
            "| 13-04-2020 |  4516 | 4557 | -41  |\n",
            "| 12-04-2020 |  4242 | 4241 |  1   |\n",
            "| 11-04-2020 |  3976 | 3842 | 134  |\n",
            "| 10-04-2020 |  3718 | 3512 | 206  |\n",
            "+------------+-------+------+------+\n"
          ],
          "name": "stdout"
        }
      ]
    },
    {
      "cell_type": "code",
      "metadata": {
        "id": "LNWi1wmbfttO"
      },
      "source": [
        ""
      ],
      "execution_count": null,
      "outputs": []
    },
    {
      "cell_type": "markdown",
      "metadata": {
        "id": "3EguPrhvfx4-"
      },
      "source": [
        "# Memprediksi Menggunakan Linear Regresi"
      ]
    },
    {
      "cell_type": "code",
      "metadata": {
        "colab": {
          "base_uri": "https://localhost:8080/"
        },
        "id": "K91fNXwIfvSW",
        "outputId": "8e8ed019-2644-407a-c572-d956a06d6784"
      },
      "source": [
        "import pandas as pd\n",
        "import matplotlib.pyplot as plt\n",
        "import numpy as np\n",
        "\n",
        "from sklearn import linear_model\n",
        "from sklearn.metrics import mean_squared_error, r2_score\n",
        "from sklearn.model_selection import train_test_split\n",
        "\n",
        "\n",
        "import pandas as pd\n",
        "df = pd.read_csv(\"../content/drive/My Drive/Colab Notebooks/jabar.csv\")\n",
        "\n",
        "df.columns = ['x1','x2','x3','x4','x5','x6','x7','x8','x9','10','11','12','13','14','15','16','17','18','19','20','21','22','23','24','25','26','27','28','29','30','31','32','33','34','35','36','37','38','39']\n",
        "print(df.describe())"
      ],
      "execution_count": 28,
      "outputs": [
        {
          "output_type": "stream",
          "text": [
            "               x2         x3            x4  ...         37         38         39\n",
            "count   39.000000  39.000000     39.000000  ...  39.000000  39.000000  39.000000\n",
            "mean    85.641026   9.717949   3497.025641  ...   0.076923   0.076923   0.051282\n",
            "std    106.487332  15.286645   5810.030766  ...   0.269953   0.269953   0.223456\n",
            "min      0.000000   0.000000      0.000000  ...   0.000000   0.000000   0.000000\n",
            "25%      3.000000   0.000000      0.000000  ...   0.000000   0.000000   0.000000\n",
            "50%     41.000000   4.000000      0.000000  ...   0.000000   0.000000   0.000000\n",
            "75%    149.000000  14.500000   5293.000000  ...   0.000000   0.000000   0.000000\n",
            "max    366.000000  80.000000  17231.000000  ...   1.000000   1.000000   1.000000\n",
            "\n",
            "[8 rows x 38 columns]\n"
          ],
          "name": "stdout"
        }
      ]
    },
    {
      "cell_type": "code",
      "metadata": {
        "colab": {
          "base_uri": "https://localhost:8080/"
        },
        "id": "e--hilUggDxv",
        "outputId": "577d91f8-65aa-48a6-c32c-7d6075418340"
      },
      "source": [
        "X = df.iloc[:,1:39]\n",
        "Y = df.iloc[:, 8]\n",
        "X_train, X_test, Y_train, Y_test = train_test_split(X, Y, test_size=0.2, random_state= 0)\n",
        "model = linear_model.LinearRegression()\n",
        "model.fit(X_train, Y_train)"
      ],
      "execution_count": 29,
      "outputs": [
        {
          "output_type": "execute_result",
          "data": {
            "text/plain": [
              "LinearRegression(copy_X=True, fit_intercept=True, n_jobs=None, normalize=False)"
            ]
          },
          "metadata": {
            "tags": []
          },
          "execution_count": 29
        }
      ]
    },
    {
      "cell_type": "code",
      "metadata": {
        "colab": {
          "base_uri": "https://localhost:8080/"
        },
        "id": "uJ4XlSGpgGHO",
        "outputId": "e730a8d8-0544-421a-b41e-68366856af26"
      },
      "source": [
        "coeff_df = pd.DataFrame(model.coef_, X.columns, columns=['jumlah'])\n",
        "print(coeff_df)\n"
      ],
      "execution_count": 30,
      "outputs": [
        {
          "output_type": "stream",
          "text": [
            "          jumlah\n",
            "x2 -8.024275e-04\n",
            "x3  3.422856e-15\n",
            "x4  1.050900e-05\n",
            "x5  4.980445e-05\n",
            "x6  1.548162e-16\n",
            "x7  6.949389e-18\n",
            "x8  9.879809e-04\n",
            "x9  9.986685e-01\n",
            "10  8.647021e-17\n",
            "11 -4.336923e-16\n",
            "12 -2.685163e-02\n",
            "13 -1.270957e-02\n",
            "14  4.828416e-04\n",
            "15 -1.597929e-04\n",
            "16  2.726868e-03\n",
            "17  2.454916e-03\n",
            "18  1.713153e-03\n",
            "19  3.689089e-03\n",
            "20 -5.105455e-03\n",
            "21  1.414320e-03\n",
            "22 -1.183228e-02\n",
            "23  2.988802e-03\n",
            "24 -7.847538e-03\n",
            "25  5.875724e-03\n",
            "26 -1.319656e-03\n",
            "27  5.279976e-03\n",
            "28  3.960306e-04\n",
            "29  0.000000e+00\n",
            "30  7.920612e-04\n",
            "31  3.960306e-04\n",
            "32  8.745740e-03\n",
            "33 -5.041099e-03\n",
            "34  0.000000e+00\n",
            "35  3.960306e-04\n",
            "36  2.510985e-03\n",
            "37  1.255493e-03\n",
            "38  1.255493e-03\n",
            "39  3.960306e-04\n"
          ],
          "name": "stdout"
        }
      ]
    },
    {
      "cell_type": "code",
      "metadata": {
        "colab": {
          "base_uri": "https://localhost:8080/"
        },
        "id": "18oD2La2gIQ_",
        "outputId": "1732e414-b5c8-43bd-8c8d-a896898dc569"
      },
      "source": [
        "y_pred = model.predict(X_test)\n",
        "df = pd.DataFrame({'sebenarnya': Y_test, 'prediksi': y_pred})\n",
        "print(df.head(10))"
      ],
      "execution_count": 31,
      "outputs": [
        {
          "output_type": "stream",
          "text": [
            "    sebenarnya      prediksi\n",
            "4            0 -2.131628e-13\n",
            "28         190  1.898967e+02\n",
            "29         190  1.899054e+02\n",
            "33         256  2.560183e+02\n",
            "34         256  2.560388e+02\n",
            "25           0 -7.814535e-04\n",
            "10           0 -1.072554e-13\n",
            "22           0  8.024275e-04\n"
          ],
          "name": "stdout"
        }
      ]
    },
    {
      "cell_type": "code",
      "metadata": {
        "colab": {
          "base_uri": "https://localhost:8080/",
          "height": 486
        },
        "id": "ybbAP1aDgKV-",
        "outputId": "208542e3-5e90-458a-90ef-d34d907c7d01"
      },
      "source": [
        "df.plot(kind='bar',figsize=(10,8))\n",
        "plt.grid(which='major', linestyle='-', linewidth='1', color='green')\n",
        "plt.grid(which='minor', linestyle=':', linewidth='1', color='black')\n",
        "plt.show()\n"
      ],
      "execution_count": 32,
      "outputs": [
        {
          "output_type": "display_data",
          "data": {
            "image/png": "[encoded data removed]",
            "text/plain": [
              "<Figure size 720x576 with 1 Axes>"
            ]
          },
          "metadata": {
            "tags": []
          }
        }
      ]
    },
    {
      "cell_type": "code",
      "metadata": {
        "colab": {
          "base_uri": "https://localhost:8080/"
        },
        "id": "R3OjQC65gNbH",
        "outputId": "d7493e57-0e87-42fe-e786-4c12e330f90e"
      },
      "source": [
        "rmse = np.sqrt(mean_squared_error(Y_test, y_pred))      \n",
        "r2_value = r2_score(Y_test, y_pred)                     \n",
        "\n",
        "print(\"Intercept: \\n\", model.intercept_)\n",
        "print(\"Root Mean Square Error \\n\", rmse)\n",
        "print(\"R^2 Value: \\n\", r2_value)"
      ],
      "execution_count": 33,
      "outputs": [
        {
          "output_type": "stream",
          "text": [
            "Intercept: \n",
            " -2.1316282072803006e-13\n",
            "Root Mean Square Error \n",
            " 0.051782900505499975\n",
            "R^2 Value: \n",
            " 0.9999997933636091\n"
          ],
          "name": "stdout"
        }
      ]
    }
  ]
}